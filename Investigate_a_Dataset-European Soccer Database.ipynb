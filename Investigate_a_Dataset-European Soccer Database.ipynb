{
 "cells": [
  {
   "cell_type": "markdown",
   "metadata": {},
   "source": [
    "\n",
    "\n",
    "# Project: Investigate a Dataset - European Soccer Database\n",
    "\n",
    "## Table of Contents\n",
    "<ul>\n",
    "<li><a href=\"#intro\">Introduction</a></li>\n",
    "<li><a href=\"#wrangling\">Data Wrangling</a></li>\n",
    "<li><a href=\"#eda\">Exploratory Data Analysis</a></li>\n",
    "<li><a href=\"#conclusions\">Conclusions</a></li>\n",
    "<li><a href=\"#limitations\">Limitations</a></li>\n",
    "</ul>"
   ]
  },
  {
   "cell_type": "markdown",
   "metadata": {},
   "source": [
    "<a id='intro'></a>\n",
    "## Introduction\n",
    "\n",
    "### Dataset Description \n",
    "\n",
    "This soccer database comes from Kaggle with quite extensive data stored in SQLite database. It contains data for soccer matches, players, and teams from several European countries from 2008 to 2016.\n",
    "\n",
    "\n",
    "\n",
    "### Questions for Analysis\n",
    "\n",
    "Through this notebook, we will seek to answer the following questions:\n",
    "* Do home teams have more chances of winning matches?\n",
    "* What are the top winning teams?\n",
    "* What are the team attributes contributing the most in a winning team?\n",
    "* Who are the top rated players among the world? are they playing in the top winning teams?"
   ]
  },
  {
   "cell_type": "code",
   "execution_count": 34,
   "metadata": {},
   "outputs": [],
   "source": [
    "from sqlalchemy import create_engine\n",
    "import pandas as pd\n",
    "import matplotlib.pyplot as plt\n",
    "%matplotlib inline\n",
    "import seaborn as sns\n"
   ]
  },
  {
   "cell_type": "markdown",
   "metadata": {},
   "source": [
    "<a id='wrangling'></a>\n",
    "## Data Wrangling\n",
    "\n",
    "Through this section, the data shall be loaded, explored and cleaned to make it ready for analaysis in the next section."
   ]
  },
  {
   "cell_type": "markdown",
   "metadata": {
    "collapsed": true
   },
   "source": [
    "### Reading the master table from the SQLite database:"
   ]
  },
  {
   "cell_type": "markdown",
   "metadata": {},
   "source": [
    "The soccer database is loaded in the notebook. The database is explored to recognize the tables it contains."
   ]
  },
  {
   "cell_type": "code",
   "execution_count": 35,
   "metadata": {},
   "outputs": [],
   "source": [
    "engine= create_engine('sqlite:///database.sqlite')\n",
    "\n",
    "def sql_read(f):\n",
    "    \n",
    "    ''' \n",
    "    This function objective is to load the data from SQLite Database. It's required to pass the table name as an argument \n",
    "    and the function will return a DataFrame with the desired table data\n",
    "    \n",
    "    '''\n",
    "    df_name = str(f)\n",
    "    df_name =pd.read_sql('SELECT * FROM '+ df_name, engine)\n",
    "    \n",
    "    return df_name\n"
   ]
  },
  {
   "cell_type": "code",
   "execution_count": 36,
   "metadata": {},
   "outputs": [
    {
     "data": {
      "text/html": [
       "<div>\n",
       "<style scoped>\n",
       "    .dataframe tbody tr th:only-of-type {\n",
       "        vertical-align: middle;\n",
       "    }\n",
       "\n",
       "    .dataframe tbody tr th {\n",
       "        vertical-align: top;\n",
       "    }\n",
       "\n",
       "    .dataframe thead th {\n",
       "        text-align: right;\n",
       "    }\n",
       "</style>\n",
       "<table border=\"1\" class=\"dataframe\">\n",
       "  <thead>\n",
       "    <tr style=\"text-align: right;\">\n",
       "      <th></th>\n",
       "      <th>type</th>\n",
       "      <th>name</th>\n",
       "      <th>tbl_name</th>\n",
       "      <th>rootpage</th>\n",
       "      <th>sql</th>\n",
       "    </tr>\n",
       "  </thead>\n",
       "  <tbody>\n",
       "    <tr>\n",
       "      <th>0</th>\n",
       "      <td>table</td>\n",
       "      <td>sqlite_sequence</td>\n",
       "      <td>sqlite_sequence</td>\n",
       "      <td>4</td>\n",
       "      <td>CREATE TABLE sqlite_sequence(name,seq)</td>\n",
       "    </tr>\n",
       "    <tr>\n",
       "      <th>1</th>\n",
       "      <td>table</td>\n",
       "      <td>Player_Attributes</td>\n",
       "      <td>Player_Attributes</td>\n",
       "      <td>11</td>\n",
       "      <td>CREATE TABLE \"Player_Attributes\" (\\n\\t`id`\\tIN...</td>\n",
       "    </tr>\n",
       "    <tr>\n",
       "      <th>2</th>\n",
       "      <td>table</td>\n",
       "      <td>Player</td>\n",
       "      <td>Player</td>\n",
       "      <td>14</td>\n",
       "      <td>CREATE TABLE `Player` (\\n\\t`id`\\tINTEGER PRIMA...</td>\n",
       "    </tr>\n",
       "    <tr>\n",
       "      <th>3</th>\n",
       "      <td>index</td>\n",
       "      <td>sqlite_autoindex_Player_1</td>\n",
       "      <td>Player</td>\n",
       "      <td>15</td>\n",
       "      <td>None</td>\n",
       "    </tr>\n",
       "    <tr>\n",
       "      <th>4</th>\n",
       "      <td>index</td>\n",
       "      <td>sqlite_autoindex_Player_2</td>\n",
       "      <td>Player</td>\n",
       "      <td>17</td>\n",
       "      <td>None</td>\n",
       "    </tr>\n",
       "    <tr>\n",
       "      <th>5</th>\n",
       "      <td>table</td>\n",
       "      <td>Match</td>\n",
       "      <td>Match</td>\n",
       "      <td>18</td>\n",
       "      <td>CREATE TABLE `Match` (\\n\\t`id`\\tINTEGER PRIMAR...</td>\n",
       "    </tr>\n",
       "    <tr>\n",
       "      <th>6</th>\n",
       "      <td>index</td>\n",
       "      <td>sqlite_autoindex_Match_1</td>\n",
       "      <td>Match</td>\n",
       "      <td>19</td>\n",
       "      <td>None</td>\n",
       "    </tr>\n",
       "    <tr>\n",
       "      <th>7</th>\n",
       "      <td>table</td>\n",
       "      <td>League</td>\n",
       "      <td>League</td>\n",
       "      <td>24</td>\n",
       "      <td>CREATE TABLE `League` (\\n\\t`id`\\tINTEGER PRIMA...</td>\n",
       "    </tr>\n",
       "    <tr>\n",
       "      <th>8</th>\n",
       "      <td>index</td>\n",
       "      <td>sqlite_autoindex_League_1</td>\n",
       "      <td>League</td>\n",
       "      <td>25</td>\n",
       "      <td>None</td>\n",
       "    </tr>\n",
       "    <tr>\n",
       "      <th>9</th>\n",
       "      <td>table</td>\n",
       "      <td>Country</td>\n",
       "      <td>Country</td>\n",
       "      <td>26</td>\n",
       "      <td>CREATE TABLE `Country` (\\n\\t`id`\\tINTEGER PRIM...</td>\n",
       "    </tr>\n",
       "    <tr>\n",
       "      <th>10</th>\n",
       "      <td>index</td>\n",
       "      <td>sqlite_autoindex_Country_1</td>\n",
       "      <td>Country</td>\n",
       "      <td>28</td>\n",
       "      <td>None</td>\n",
       "    </tr>\n",
       "    <tr>\n",
       "      <th>11</th>\n",
       "      <td>table</td>\n",
       "      <td>Team</td>\n",
       "      <td>Team</td>\n",
       "      <td>29</td>\n",
       "      <td>CREATE TABLE \"Team\" (\\n\\t`id`\\tINTEGER PRIMARY...</td>\n",
       "    </tr>\n",
       "    <tr>\n",
       "      <th>12</th>\n",
       "      <td>index</td>\n",
       "      <td>sqlite_autoindex_Team_1</td>\n",
       "      <td>Team</td>\n",
       "      <td>30</td>\n",
       "      <td>None</td>\n",
       "    </tr>\n",
       "    <tr>\n",
       "      <th>13</th>\n",
       "      <td>table</td>\n",
       "      <td>Team_Attributes</td>\n",
       "      <td>Team_Attributes</td>\n",
       "      <td>2</td>\n",
       "      <td>CREATE TABLE `Team_Attributes` (\\n\\t`id`\\tINTE...</td>\n",
       "    </tr>\n",
       "  </tbody>\n",
       "</table>\n",
       "</div>"
      ],
      "text/plain": [
       "     type                        name           tbl_name  rootpage  \\\n",
       "0   table             sqlite_sequence    sqlite_sequence         4   \n",
       "1   table           Player_Attributes  Player_Attributes        11   \n",
       "2   table                      Player             Player        14   \n",
       "3   index   sqlite_autoindex_Player_1             Player        15   \n",
       "4   index   sqlite_autoindex_Player_2             Player        17   \n",
       "5   table                       Match              Match        18   \n",
       "6   index    sqlite_autoindex_Match_1              Match        19   \n",
       "7   table                      League             League        24   \n",
       "8   index   sqlite_autoindex_League_1             League        25   \n",
       "9   table                     Country            Country        26   \n",
       "10  index  sqlite_autoindex_Country_1            Country        28   \n",
       "11  table                        Team               Team        29   \n",
       "12  index     sqlite_autoindex_Team_1               Team        30   \n",
       "13  table             Team_Attributes    Team_Attributes         2   \n",
       "\n",
       "                                                  sql  \n",
       "0              CREATE TABLE sqlite_sequence(name,seq)  \n",
       "1   CREATE TABLE \"Player_Attributes\" (\\n\\t`id`\\tIN...  \n",
       "2   CREATE TABLE `Player` (\\n\\t`id`\\tINTEGER PRIMA...  \n",
       "3                                                None  \n",
       "4                                                None  \n",
       "5   CREATE TABLE `Match` (\\n\\t`id`\\tINTEGER PRIMAR...  \n",
       "6                                                None  \n",
       "7   CREATE TABLE `League` (\\n\\t`id`\\tINTEGER PRIMA...  \n",
       "8                                                None  \n",
       "9   CREATE TABLE `Country` (\\n\\t`id`\\tINTEGER PRIM...  \n",
       "10                                               None  \n",
       "11  CREATE TABLE \"Team\" (\\n\\t`id`\\tINTEGER PRIMARY...  \n",
       "12                                               None  \n",
       "13  CREATE TABLE `Team_Attributes` (\\n\\t`id`\\tINTE...  "
      ]
     },
     "execution_count": 36,
     "metadata": {},
     "output_type": "execute_result"
    }
   ],
   "source": [
    "df= sql_read('sqlite_master')\n",
    "df"
   ]
  },
  {
   "cell_type": "markdown",
   "metadata": {},
   "source": [
    "There are 7 tables summarized as the following:"
   ]
  },
  {
   "cell_type": "code",
   "execution_count": 37,
   "metadata": {},
   "outputs": [
    {
     "data": {
      "text/html": [
       "<div>\n",
       "<style scoped>\n",
       "    .dataframe tbody tr th:only-of-type {\n",
       "        vertical-align: middle;\n",
       "    }\n",
       "\n",
       "    .dataframe tbody tr th {\n",
       "        vertical-align: top;\n",
       "    }\n",
       "\n",
       "    .dataframe thead th {\n",
       "        text-align: right;\n",
       "    }\n",
       "</style>\n",
       "<table border=\"1\" class=\"dataframe\">\n",
       "  <thead>\n",
       "    <tr style=\"text-align: right;\">\n",
       "      <th></th>\n",
       "      <th>name</th>\n",
       "      <th>seq</th>\n",
       "    </tr>\n",
       "  </thead>\n",
       "  <tbody>\n",
       "    <tr>\n",
       "      <th>0</th>\n",
       "      <td>Team</td>\n",
       "      <td>103916</td>\n",
       "    </tr>\n",
       "    <tr>\n",
       "      <th>1</th>\n",
       "      <td>Country</td>\n",
       "      <td>51958</td>\n",
       "    </tr>\n",
       "    <tr>\n",
       "      <th>2</th>\n",
       "      <td>League</td>\n",
       "      <td>51958</td>\n",
       "    </tr>\n",
       "    <tr>\n",
       "      <th>3</th>\n",
       "      <td>Match</td>\n",
       "      <td>51958</td>\n",
       "    </tr>\n",
       "    <tr>\n",
       "      <th>4</th>\n",
       "      <td>Player</td>\n",
       "      <td>11075</td>\n",
       "    </tr>\n",
       "    <tr>\n",
       "      <th>5</th>\n",
       "      <td>Player_Attributes</td>\n",
       "      <td>183978</td>\n",
       "    </tr>\n",
       "    <tr>\n",
       "      <th>6</th>\n",
       "      <td>Team_Attributes</td>\n",
       "      <td>1458</td>\n",
       "    </tr>\n",
       "  </tbody>\n",
       "</table>\n",
       "</div>"
      ],
      "text/plain": [
       "                name     seq\n",
       "0               Team  103916\n",
       "1            Country   51958\n",
       "2             League   51958\n",
       "3              Match   51958\n",
       "4             Player   11075\n",
       "5  Player_Attributes  183978\n",
       "6    Team_Attributes    1458"
      ]
     },
     "execution_count": 37,
     "metadata": {},
     "output_type": "execute_result"
    }
   ],
   "source": [
    "df_master = sql_read('sqlite_sequence')\n",
    "df_master"
   ]
  },
  {
   "cell_type": "markdown",
   "metadata": {},
   "source": [
    "Exploring each table at first will tell more about the data included in each.\n",
    "\n",
    "### Starting by Team table:"
   ]
  },
  {
   "cell_type": "code",
   "execution_count": 38,
   "metadata": {},
   "outputs": [
    {
     "data": {
      "text/html": [
       "<div>\n",
       "<style scoped>\n",
       "    .dataframe tbody tr th:only-of-type {\n",
       "        vertical-align: middle;\n",
       "    }\n",
       "\n",
       "    .dataframe tbody tr th {\n",
       "        vertical-align: top;\n",
       "    }\n",
       "\n",
       "    .dataframe thead th {\n",
       "        text-align: right;\n",
       "    }\n",
       "</style>\n",
       "<table border=\"1\" class=\"dataframe\">\n",
       "  <thead>\n",
       "    <tr style=\"text-align: right;\">\n",
       "      <th></th>\n",
       "      <th>id</th>\n",
       "      <th>team_api_id</th>\n",
       "      <th>team_fifa_api_id</th>\n",
       "      <th>team_long_name</th>\n",
       "      <th>team_short_name</th>\n",
       "    </tr>\n",
       "  </thead>\n",
       "  <tbody>\n",
       "    <tr>\n",
       "      <th>0</th>\n",
       "      <td>1</td>\n",
       "      <td>9987</td>\n",
       "      <td>673.0</td>\n",
       "      <td>KRC Genk</td>\n",
       "      <td>GEN</td>\n",
       "    </tr>\n",
       "    <tr>\n",
       "      <th>1</th>\n",
       "      <td>2</td>\n",
       "      <td>9993</td>\n",
       "      <td>675.0</td>\n",
       "      <td>Beerschot AC</td>\n",
       "      <td>BAC</td>\n",
       "    </tr>\n",
       "    <tr>\n",
       "      <th>2</th>\n",
       "      <td>3</td>\n",
       "      <td>10000</td>\n",
       "      <td>15005.0</td>\n",
       "      <td>SV Zulte-Waregem</td>\n",
       "      <td>ZUL</td>\n",
       "    </tr>\n",
       "    <tr>\n",
       "      <th>3</th>\n",
       "      <td>4</td>\n",
       "      <td>9994</td>\n",
       "      <td>2007.0</td>\n",
       "      <td>Sporting Lokeren</td>\n",
       "      <td>LOK</td>\n",
       "    </tr>\n",
       "    <tr>\n",
       "      <th>4</th>\n",
       "      <td>5</td>\n",
       "      <td>9984</td>\n",
       "      <td>1750.0</td>\n",
       "      <td>KSV Cercle Brugge</td>\n",
       "      <td>CEB</td>\n",
       "    </tr>\n",
       "  </tbody>\n",
       "</table>\n",
       "</div>"
      ],
      "text/plain": [
       "   id  team_api_id  team_fifa_api_id     team_long_name team_short_name\n",
       "0   1         9987             673.0           KRC Genk             GEN\n",
       "1   2         9993             675.0       Beerschot AC             BAC\n",
       "2   3        10000           15005.0   SV Zulte-Waregem             ZUL\n",
       "3   4         9994            2007.0   Sporting Lokeren             LOK\n",
       "4   5         9984            1750.0  KSV Cercle Brugge             CEB"
      ]
     },
     "execution_count": 38,
     "metadata": {},
     "output_type": "execute_result"
    }
   ],
   "source": [
    "df_team = sql_read('Team')\n",
    "df_team.head()"
   ]
  },
  {
   "cell_type": "code",
   "execution_count": 39,
   "metadata": {},
   "outputs": [
    {
     "data": {
      "text/plain": [
       "(299, 5)"
      ]
     },
     "execution_count": 39,
     "metadata": {},
     "output_type": "execute_result"
    }
   ],
   "source": [
    "df_team.shape"
   ]
  },
  {
   "cell_type": "markdown",
   "metadata": {},
   "source": [
    "the **Team Table** is listing the club's team name along with its reference numbers and short name.\n",
    "\n"
   ]
  },
  {
   "cell_type": "markdown",
   "metadata": {},
   "source": [
    "The columns for **id** and **team_fifa_api_id** are going to be discarded from now on for all tables. The **team_api_id** shall be kept to access data in this table. "
   ]
  },
  {
   "cell_type": "code",
   "execution_count": 40,
   "metadata": {},
   "outputs": [],
   "source": [
    "df_team.drop(columns=['id','team_fifa_api_id'], inplace=True)"
   ]
  },
  {
   "cell_type": "code",
   "execution_count": 41,
   "metadata": {},
   "outputs": [
    {
     "data": {
      "text/html": [
       "<div>\n",
       "<style scoped>\n",
       "    .dataframe tbody tr th:only-of-type {\n",
       "        vertical-align: middle;\n",
       "    }\n",
       "\n",
       "    .dataframe tbody tr th {\n",
       "        vertical-align: top;\n",
       "    }\n",
       "\n",
       "    .dataframe thead th {\n",
       "        text-align: right;\n",
       "    }\n",
       "</style>\n",
       "<table border=\"1\" class=\"dataframe\">\n",
       "  <thead>\n",
       "    <tr style=\"text-align: right;\">\n",
       "      <th></th>\n",
       "      <th>team_api_id</th>\n",
       "      <th>team_long_name</th>\n",
       "      <th>team_short_name</th>\n",
       "    </tr>\n",
       "  </thead>\n",
       "  <tbody>\n",
       "    <tr>\n",
       "      <th>0</th>\n",
       "      <td>9987</td>\n",
       "      <td>KRC Genk</td>\n",
       "      <td>GEN</td>\n",
       "    </tr>\n",
       "    <tr>\n",
       "      <th>1</th>\n",
       "      <td>9993</td>\n",
       "      <td>Beerschot AC</td>\n",
       "      <td>BAC</td>\n",
       "    </tr>\n",
       "    <tr>\n",
       "      <th>2</th>\n",
       "      <td>10000</td>\n",
       "      <td>SV Zulte-Waregem</td>\n",
       "      <td>ZUL</td>\n",
       "    </tr>\n",
       "    <tr>\n",
       "      <th>3</th>\n",
       "      <td>9994</td>\n",
       "      <td>Sporting Lokeren</td>\n",
       "      <td>LOK</td>\n",
       "    </tr>\n",
       "    <tr>\n",
       "      <th>4</th>\n",
       "      <td>9984</td>\n",
       "      <td>KSV Cercle Brugge</td>\n",
       "      <td>CEB</td>\n",
       "    </tr>\n",
       "  </tbody>\n",
       "</table>\n",
       "</div>"
      ],
      "text/plain": [
       "   team_api_id     team_long_name team_short_name\n",
       "0         9987           KRC Genk             GEN\n",
       "1         9993       Beerschot AC             BAC\n",
       "2        10000   SV Zulte-Waregem             ZUL\n",
       "3         9994   Sporting Lokeren             LOK\n",
       "4         9984  KSV Cercle Brugge             CEB"
      ]
     },
     "execution_count": 41,
     "metadata": {},
     "output_type": "execute_result"
    }
   ],
   "source": [
    "df_team.head()"
   ]
  },
  {
   "cell_type": "markdown",
   "metadata": {},
   "source": [
    "Let's explore the data in this table and see if there are duplicated values"
   ]
  },
  {
   "cell_type": "code",
   "execution_count": 42,
   "metadata": {},
   "outputs": [
    {
     "name": "stdout",
     "output_type": "stream",
     "text": [
      "<class 'pandas.core.frame.DataFrame'>\n",
      "RangeIndex: 299 entries, 0 to 298\n",
      "Data columns (total 3 columns):\n",
      " #   Column           Non-Null Count  Dtype \n",
      "---  ------           --------------  ----- \n",
      " 0   team_api_id      299 non-null    int64 \n",
      " 1   team_long_name   299 non-null    object\n",
      " 2   team_short_name  299 non-null    object\n",
      "dtypes: int64(1), object(2)\n",
      "memory usage: 7.1+ KB\n"
     ]
    }
   ],
   "source": [
    "df_team.info()"
   ]
  },
  {
   "cell_type": "code",
   "execution_count": 43,
   "metadata": {},
   "outputs": [
    {
     "data": {
      "text/plain": [
       "team_api_id        299\n",
       "team_long_name     296\n",
       "team_short_name    259\n",
       "dtype: int64"
      ]
     },
     "execution_count": 43,
     "metadata": {},
     "output_type": "execute_result"
    }
   ],
   "source": [
    "df_team.nunique()"
   ]
  },
  {
   "cell_type": "markdown",
   "metadata": {},
   "source": [
    "The unique values summary is telling there are 3 club names are given two IDs. Also, several teams were given same short name.\n",
    "Through this dataset invistigation, we may not be using a **team_short_name**. Therefore, we will discard it."
   ]
  },
  {
   "cell_type": "code",
   "execution_count": 44,
   "metadata": {},
   "outputs": [],
   "source": [
    "df_team.drop(columns=['team_short_name'], inplace=True)"
   ]
  },
  {
   "cell_type": "markdown",
   "metadata": {},
   "source": [
    "Now, we have to fix the duplicated **team_long_name**.\n",
    "\n",
    "Let's determine their values and locations."
   ]
  },
  {
   "cell_type": "code",
   "execution_count": 45,
   "metadata": {},
   "outputs": [
    {
     "data": {
      "text/html": [
       "<div>\n",
       "<style scoped>\n",
       "    .dataframe tbody tr th:only-of-type {\n",
       "        vertical-align: middle;\n",
       "    }\n",
       "\n",
       "    .dataframe tbody tr th {\n",
       "        vertical-align: top;\n",
       "    }\n",
       "\n",
       "    .dataframe thead th {\n",
       "        text-align: right;\n",
       "    }\n",
       "</style>\n",
       "<table border=\"1\" class=\"dataframe\">\n",
       "  <thead>\n",
       "    <tr style=\"text-align: right;\">\n",
       "      <th></th>\n",
       "      <th>team_api_id</th>\n",
       "      <th>team_long_name</th>\n",
       "    </tr>\n",
       "  </thead>\n",
       "  <tbody>\n",
       "    <tr>\n",
       "      <th>15</th>\n",
       "      <td>9996</td>\n",
       "      <td>Royal Excel Mouscron</td>\n",
       "    </tr>\n",
       "    <tr>\n",
       "      <th>24</th>\n",
       "      <td>274581</td>\n",
       "      <td>Royal Excel Mouscron</td>\n",
       "    </tr>\n",
       "    <tr>\n",
       "      <th>182</th>\n",
       "      <td>8031</td>\n",
       "      <td>Polonia Bytom</td>\n",
       "    </tr>\n",
       "    <tr>\n",
       "      <th>183</th>\n",
       "      <td>8020</td>\n",
       "      <td>Polonia Bytom</td>\n",
       "    </tr>\n",
       "    <tr>\n",
       "      <th>189</th>\n",
       "      <td>8244</td>\n",
       "      <td>Widzew Łódź</td>\n",
       "    </tr>\n",
       "    <tr>\n",
       "      <th>199</th>\n",
       "      <td>8024</td>\n",
       "      <td>Widzew Łódź</td>\n",
       "    </tr>\n",
       "  </tbody>\n",
       "</table>\n",
       "</div>"
      ],
      "text/plain": [
       "     team_api_id        team_long_name\n",
       "15          9996  Royal Excel Mouscron\n",
       "24        274581  Royal Excel Mouscron\n",
       "182         8031         Polonia Bytom\n",
       "183         8020         Polonia Bytom\n",
       "189         8244           Widzew Łódź\n",
       "199         8024           Widzew Łódź"
      ]
     },
     "execution_count": 45,
     "metadata": {},
     "output_type": "execute_result"
    }
   ],
   "source": [
    "df_team.loc[df_team['team_long_name'].duplicated(keep=False),:]"
   ]
  },
  {
   "cell_type": "markdown",
   "metadata": {},
   "source": [
    "These duplicates could not just be dropped as their correct **team_api_id** is not known. Hence, they are given suffix to make it unique."
   ]
  },
  {
   "cell_type": "code",
   "execution_count": 46,
   "metadata": {
    "scrolled": false
   },
   "outputs": [],
   "source": [
    "df_team.loc[24,'team_long_name']='Royal Excel Mouscron 2'\n",
    "df_team.loc[183,'team_long_name']='Polonia Bytom 2'\n",
    "df_team.loc[199,'team_long_name']='Widzew Łódź 2'"
   ]
  },
  {
   "cell_type": "code",
   "execution_count": 47,
   "metadata": {},
   "outputs": [
    {
     "data": {
      "text/plain": [
       "team_api_id       299\n",
       "team_long_name    299\n",
       "dtype: int64"
      ]
     },
     "execution_count": 47,
     "metadata": {},
     "output_type": "execute_result"
    }
   ],
   "source": [
    "df_team.nunique()"
   ]
  },
  {
   "cell_type": "markdown",
   "metadata": {},
   "source": [
    "Now, there are 299 unique teams in the ```df_team``` table"
   ]
  },
  {
   "cell_type": "markdown",
   "metadata": {},
   "source": [
    "### The following table: Country"
   ]
  },
  {
   "cell_type": "code",
   "execution_count": 48,
   "metadata": {},
   "outputs": [
    {
     "data": {
      "text/html": [
       "<div>\n",
       "<style scoped>\n",
       "    .dataframe tbody tr th:only-of-type {\n",
       "        vertical-align: middle;\n",
       "    }\n",
       "\n",
       "    .dataframe tbody tr th {\n",
       "        vertical-align: top;\n",
       "    }\n",
       "\n",
       "    .dataframe thead th {\n",
       "        text-align: right;\n",
       "    }\n",
       "</style>\n",
       "<table border=\"1\" class=\"dataframe\">\n",
       "  <thead>\n",
       "    <tr style=\"text-align: right;\">\n",
       "      <th></th>\n",
       "      <th>id</th>\n",
       "      <th>name</th>\n",
       "    </tr>\n",
       "  </thead>\n",
       "  <tbody>\n",
       "    <tr>\n",
       "      <th>0</th>\n",
       "      <td>1</td>\n",
       "      <td>Belgium</td>\n",
       "    </tr>\n",
       "    <tr>\n",
       "      <th>1</th>\n",
       "      <td>1729</td>\n",
       "      <td>England</td>\n",
       "    </tr>\n",
       "    <tr>\n",
       "      <th>2</th>\n",
       "      <td>4769</td>\n",
       "      <td>France</td>\n",
       "    </tr>\n",
       "    <tr>\n",
       "      <th>3</th>\n",
       "      <td>7809</td>\n",
       "      <td>Germany</td>\n",
       "    </tr>\n",
       "    <tr>\n",
       "      <th>4</th>\n",
       "      <td>10257</td>\n",
       "      <td>Italy</td>\n",
       "    </tr>\n",
       "    <tr>\n",
       "      <th>5</th>\n",
       "      <td>13274</td>\n",
       "      <td>Netherlands</td>\n",
       "    </tr>\n",
       "    <tr>\n",
       "      <th>6</th>\n",
       "      <td>15722</td>\n",
       "      <td>Poland</td>\n",
       "    </tr>\n",
       "    <tr>\n",
       "      <th>7</th>\n",
       "      <td>17642</td>\n",
       "      <td>Portugal</td>\n",
       "    </tr>\n",
       "    <tr>\n",
       "      <th>8</th>\n",
       "      <td>19694</td>\n",
       "      <td>Scotland</td>\n",
       "    </tr>\n",
       "    <tr>\n",
       "      <th>9</th>\n",
       "      <td>21518</td>\n",
       "      <td>Spain</td>\n",
       "    </tr>\n",
       "    <tr>\n",
       "      <th>10</th>\n",
       "      <td>24558</td>\n",
       "      <td>Switzerland</td>\n",
       "    </tr>\n",
       "  </tbody>\n",
       "</table>\n",
       "</div>"
      ],
      "text/plain": [
       "       id         name\n",
       "0       1      Belgium\n",
       "1    1729      England\n",
       "2    4769       France\n",
       "3    7809      Germany\n",
       "4   10257        Italy\n",
       "5   13274  Netherlands\n",
       "6   15722       Poland\n",
       "7   17642     Portugal\n",
       "8   19694     Scotland\n",
       "9   21518        Spain\n",
       "10  24558  Switzerland"
      ]
     },
     "execution_count": 48,
     "metadata": {},
     "output_type": "execute_result"
    }
   ],
   "source": [
    "df_country = sql_read('Country')\n",
    "df_country"
   ]
  },
  {
   "cell_type": "markdown",
   "metadata": {},
   "source": [
    "Obviously, the table lists countries where the teams data belong to them. The country is assigned an ID number.\n",
    "\n",
    "### The following table shall be: League"
   ]
  },
  {
   "cell_type": "code",
   "execution_count": 49,
   "metadata": {},
   "outputs": [
    {
     "data": {
      "text/html": [
       "<div>\n",
       "<style scoped>\n",
       "    .dataframe tbody tr th:only-of-type {\n",
       "        vertical-align: middle;\n",
       "    }\n",
       "\n",
       "    .dataframe tbody tr th {\n",
       "        vertical-align: top;\n",
       "    }\n",
       "\n",
       "    .dataframe thead th {\n",
       "        text-align: right;\n",
       "    }\n",
       "</style>\n",
       "<table border=\"1\" class=\"dataframe\">\n",
       "  <thead>\n",
       "    <tr style=\"text-align: right;\">\n",
       "      <th></th>\n",
       "      <th>id</th>\n",
       "      <th>country_id</th>\n",
       "      <th>name</th>\n",
       "    </tr>\n",
       "  </thead>\n",
       "  <tbody>\n",
       "    <tr>\n",
       "      <th>0</th>\n",
       "      <td>1</td>\n",
       "      <td>1</td>\n",
       "      <td>Belgium Jupiler League</td>\n",
       "    </tr>\n",
       "    <tr>\n",
       "      <th>1</th>\n",
       "      <td>1729</td>\n",
       "      <td>1729</td>\n",
       "      <td>England Premier League</td>\n",
       "    </tr>\n",
       "    <tr>\n",
       "      <th>2</th>\n",
       "      <td>4769</td>\n",
       "      <td>4769</td>\n",
       "      <td>France Ligue 1</td>\n",
       "    </tr>\n",
       "    <tr>\n",
       "      <th>3</th>\n",
       "      <td>7809</td>\n",
       "      <td>7809</td>\n",
       "      <td>Germany 1. Bundesliga</td>\n",
       "    </tr>\n",
       "    <tr>\n",
       "      <th>4</th>\n",
       "      <td>10257</td>\n",
       "      <td>10257</td>\n",
       "      <td>Italy Serie A</td>\n",
       "    </tr>\n",
       "    <tr>\n",
       "      <th>5</th>\n",
       "      <td>13274</td>\n",
       "      <td>13274</td>\n",
       "      <td>Netherlands Eredivisie</td>\n",
       "    </tr>\n",
       "    <tr>\n",
       "      <th>6</th>\n",
       "      <td>15722</td>\n",
       "      <td>15722</td>\n",
       "      <td>Poland Ekstraklasa</td>\n",
       "    </tr>\n",
       "    <tr>\n",
       "      <th>7</th>\n",
       "      <td>17642</td>\n",
       "      <td>17642</td>\n",
       "      <td>Portugal Liga ZON Sagres</td>\n",
       "    </tr>\n",
       "    <tr>\n",
       "      <th>8</th>\n",
       "      <td>19694</td>\n",
       "      <td>19694</td>\n",
       "      <td>Scotland Premier League</td>\n",
       "    </tr>\n",
       "    <tr>\n",
       "      <th>9</th>\n",
       "      <td>21518</td>\n",
       "      <td>21518</td>\n",
       "      <td>Spain LIGA BBVA</td>\n",
       "    </tr>\n",
       "    <tr>\n",
       "      <th>10</th>\n",
       "      <td>24558</td>\n",
       "      <td>24558</td>\n",
       "      <td>Switzerland Super League</td>\n",
       "    </tr>\n",
       "  </tbody>\n",
       "</table>\n",
       "</div>"
      ],
      "text/plain": [
       "       id  country_id                      name\n",
       "0       1           1    Belgium Jupiler League\n",
       "1    1729        1729    England Premier League\n",
       "2    4769        4769            France Ligue 1\n",
       "3    7809        7809     Germany 1. Bundesliga\n",
       "4   10257       10257             Italy Serie A\n",
       "5   13274       13274    Netherlands Eredivisie\n",
       "6   15722       15722        Poland Ekstraklasa\n",
       "7   17642       17642  Portugal Liga ZON Sagres\n",
       "8   19694       19694   Scotland Premier League\n",
       "9   21518       21518           Spain LIGA BBVA\n",
       "10  24558       24558  Switzerland Super League"
      ]
     },
     "execution_count": 49,
     "metadata": {},
     "output_type": "execute_result"
    }
   ],
   "source": [
    "df_league = sql_read('League')\n",
    "df_league"
   ]
  },
  {
   "cell_type": "markdown",
   "metadata": {},
   "source": [
    "Now it is clear that an ID for a country is used along with the league name of that country. A duplicate column ID is given for each league. The duplicate column can be removed."
   ]
  },
  {
   "cell_type": "code",
   "execution_count": 50,
   "metadata": {},
   "outputs": [],
   "source": [
    "df_league.drop(columns='id', inplace=True)\n"
   ]
  },
  {
   "cell_type": "markdown",
   "metadata": {},
   "source": [
    "### The following table is: Match"
   ]
  },
  {
   "cell_type": "code",
   "execution_count": 51,
   "metadata": {
    "scrolled": false
   },
   "outputs": [
    {
     "data": {
      "text/html": [
       "<div>\n",
       "<style scoped>\n",
       "    .dataframe tbody tr th:only-of-type {\n",
       "        vertical-align: middle;\n",
       "    }\n",
       "\n",
       "    .dataframe tbody tr th {\n",
       "        vertical-align: top;\n",
       "    }\n",
       "\n",
       "    .dataframe thead th {\n",
       "        text-align: right;\n",
       "    }\n",
       "</style>\n",
       "<table border=\"1\" class=\"dataframe\">\n",
       "  <thead>\n",
       "    <tr style=\"text-align: right;\">\n",
       "      <th></th>\n",
       "      <th>id</th>\n",
       "      <th>country_id</th>\n",
       "      <th>league_id</th>\n",
       "      <th>season</th>\n",
       "      <th>stage</th>\n",
       "      <th>date</th>\n",
       "      <th>match_api_id</th>\n",
       "      <th>home_team_api_id</th>\n",
       "      <th>away_team_api_id</th>\n",
       "      <th>home_team_goal</th>\n",
       "      <th>...</th>\n",
       "      <th>SJA</th>\n",
       "      <th>VCH</th>\n",
       "      <th>VCD</th>\n",
       "      <th>VCA</th>\n",
       "      <th>GBH</th>\n",
       "      <th>GBD</th>\n",
       "      <th>GBA</th>\n",
       "      <th>BSH</th>\n",
       "      <th>BSD</th>\n",
       "      <th>BSA</th>\n",
       "    </tr>\n",
       "  </thead>\n",
       "  <tbody>\n",
       "    <tr>\n",
       "      <th>0</th>\n",
       "      <td>1</td>\n",
       "      <td>1</td>\n",
       "      <td>1</td>\n",
       "      <td>2008/2009</td>\n",
       "      <td>1</td>\n",
       "      <td>2008-08-17 00:00:00</td>\n",
       "      <td>492473</td>\n",
       "      <td>9987</td>\n",
       "      <td>9993</td>\n",
       "      <td>1</td>\n",
       "      <td>...</td>\n",
       "      <td>4.00</td>\n",
       "      <td>1.65</td>\n",
       "      <td>3.40</td>\n",
       "      <td>4.50</td>\n",
       "      <td>1.78</td>\n",
       "      <td>3.25</td>\n",
       "      <td>4.00</td>\n",
       "      <td>1.73</td>\n",
       "      <td>3.40</td>\n",
       "      <td>4.20</td>\n",
       "    </tr>\n",
       "    <tr>\n",
       "      <th>1</th>\n",
       "      <td>2</td>\n",
       "      <td>1</td>\n",
       "      <td>1</td>\n",
       "      <td>2008/2009</td>\n",
       "      <td>1</td>\n",
       "      <td>2008-08-16 00:00:00</td>\n",
       "      <td>492474</td>\n",
       "      <td>10000</td>\n",
       "      <td>9994</td>\n",
       "      <td>0</td>\n",
       "      <td>...</td>\n",
       "      <td>3.80</td>\n",
       "      <td>2.00</td>\n",
       "      <td>3.25</td>\n",
       "      <td>3.25</td>\n",
       "      <td>1.85</td>\n",
       "      <td>3.25</td>\n",
       "      <td>3.75</td>\n",
       "      <td>1.91</td>\n",
       "      <td>3.25</td>\n",
       "      <td>3.60</td>\n",
       "    </tr>\n",
       "    <tr>\n",
       "      <th>2</th>\n",
       "      <td>3</td>\n",
       "      <td>1</td>\n",
       "      <td>1</td>\n",
       "      <td>2008/2009</td>\n",
       "      <td>1</td>\n",
       "      <td>2008-08-16 00:00:00</td>\n",
       "      <td>492475</td>\n",
       "      <td>9984</td>\n",
       "      <td>8635</td>\n",
       "      <td>0</td>\n",
       "      <td>...</td>\n",
       "      <td>2.50</td>\n",
       "      <td>2.35</td>\n",
       "      <td>3.25</td>\n",
       "      <td>2.65</td>\n",
       "      <td>2.50</td>\n",
       "      <td>3.20</td>\n",
       "      <td>2.50</td>\n",
       "      <td>2.30</td>\n",
       "      <td>3.20</td>\n",
       "      <td>2.75</td>\n",
       "    </tr>\n",
       "    <tr>\n",
       "      <th>3</th>\n",
       "      <td>4</td>\n",
       "      <td>1</td>\n",
       "      <td>1</td>\n",
       "      <td>2008/2009</td>\n",
       "      <td>1</td>\n",
       "      <td>2008-08-17 00:00:00</td>\n",
       "      <td>492476</td>\n",
       "      <td>9991</td>\n",
       "      <td>9998</td>\n",
       "      <td>5</td>\n",
       "      <td>...</td>\n",
       "      <td>7.50</td>\n",
       "      <td>1.45</td>\n",
       "      <td>3.75</td>\n",
       "      <td>6.50</td>\n",
       "      <td>1.50</td>\n",
       "      <td>3.75</td>\n",
       "      <td>5.50</td>\n",
       "      <td>1.44</td>\n",
       "      <td>3.75</td>\n",
       "      <td>6.50</td>\n",
       "    </tr>\n",
       "    <tr>\n",
       "      <th>4</th>\n",
       "      <td>5</td>\n",
       "      <td>1</td>\n",
       "      <td>1</td>\n",
       "      <td>2008/2009</td>\n",
       "      <td>1</td>\n",
       "      <td>2008-08-16 00:00:00</td>\n",
       "      <td>492477</td>\n",
       "      <td>7947</td>\n",
       "      <td>9985</td>\n",
       "      <td>1</td>\n",
       "      <td>...</td>\n",
       "      <td>1.73</td>\n",
       "      <td>4.50</td>\n",
       "      <td>3.40</td>\n",
       "      <td>1.65</td>\n",
       "      <td>4.50</td>\n",
       "      <td>3.50</td>\n",
       "      <td>1.65</td>\n",
       "      <td>4.75</td>\n",
       "      <td>3.30</td>\n",
       "      <td>1.67</td>\n",
       "    </tr>\n",
       "  </tbody>\n",
       "</table>\n",
       "<p>5 rows × 115 columns</p>\n",
       "</div>"
      ],
      "text/plain": [
       "   id  country_id  league_id     season  stage                 date  \\\n",
       "0   1           1          1  2008/2009      1  2008-08-17 00:00:00   \n",
       "1   2           1          1  2008/2009      1  2008-08-16 00:00:00   \n",
       "2   3           1          1  2008/2009      1  2008-08-16 00:00:00   \n",
       "3   4           1          1  2008/2009      1  2008-08-17 00:00:00   \n",
       "4   5           1          1  2008/2009      1  2008-08-16 00:00:00   \n",
       "\n",
       "   match_api_id  home_team_api_id  away_team_api_id  home_team_goal  ...  \\\n",
       "0        492473              9987              9993               1  ...   \n",
       "1        492474             10000              9994               0  ...   \n",
       "2        492475              9984              8635               0  ...   \n",
       "3        492476              9991              9998               5  ...   \n",
       "4        492477              7947              9985               1  ...   \n",
       "\n",
       "    SJA   VCH   VCD   VCA   GBH   GBD   GBA   BSH   BSD   BSA  \n",
       "0  4.00  1.65  3.40  4.50  1.78  3.25  4.00  1.73  3.40  4.20  \n",
       "1  3.80  2.00  3.25  3.25  1.85  3.25  3.75  1.91  3.25  3.60  \n",
       "2  2.50  2.35  3.25  2.65  2.50  3.20  2.50  2.30  3.20  2.75  \n",
       "3  7.50  1.45  3.75  6.50  1.50  3.75  5.50  1.44  3.75  6.50  \n",
       "4  1.73  4.50  3.40  1.65  4.50  3.50  1.65  4.75  3.30  1.67  \n",
       "\n",
       "[5 rows x 115 columns]"
      ]
     },
     "execution_count": 51,
     "metadata": {},
     "output_type": "execute_result"
    }
   ],
   "source": [
    "df_match = sql_read('Match')\n",
    "df_match.head()"
   ]
  },
  {
   "cell_type": "code",
   "execution_count": 52,
   "metadata": {},
   "outputs": [
    {
     "data": {
      "text/plain": [
       "(25979, 115)"
      ]
     },
     "execution_count": 52,
     "metadata": {},
     "output_type": "execute_result"
    }
   ],
   "source": [
    "df_match.shape"
   ]
  },
  {
   "cell_type": "markdown",
   "metadata": {},
   "source": [
    "The table contains 25k+ rows and 115 columns. As the table is relatively large, the function `.info()` shall not give enough information. Alternatively, it is required to list the columns names and count of null cells."
   ]
  },
  {
   "cell_type": "code",
   "execution_count": 53,
   "metadata": {
    "scrolled": false
   },
   "outputs": [
    {
     "name": "stdout",
     "output_type": "stream",
     "text": [
      "0 id         null cells count = 0\n",
      "1 country_id         null cells count = 0\n",
      "2 league_id         null cells count = 0\n",
      "3 season         null cells count = 0\n",
      "4 stage         null cells count = 0\n",
      "5 date         null cells count = 0\n",
      "6 match_api_id         null cells count = 0\n",
      "7 home_team_api_id         null cells count = 0\n",
      "8 away_team_api_id         null cells count = 0\n",
      "9 home_team_goal         null cells count = 0\n",
      "10 away_team_goal         null cells count = 0\n",
      "11 home_player_X1         null cells count = 1821\n",
      "12 home_player_X2         null cells count = 1821\n",
      "13 home_player_X3         null cells count = 1832\n",
      "14 home_player_X4         null cells count = 1832\n",
      "15 home_player_X5         null cells count = 1832\n",
      "16 home_player_X6         null cells count = 1832\n",
      "17 home_player_X7         null cells count = 1832\n",
      "18 home_player_X8         null cells count = 1832\n",
      "19 home_player_X9         null cells count = 1832\n",
      "20 home_player_X10         null cells count = 1832\n",
      "21 home_player_X11         null cells count = 1832\n",
      "22 away_player_X1         null cells count = 1832\n",
      "23 away_player_X2         null cells count = 1832\n",
      "24 away_player_X3         null cells count = 1832\n",
      "25 away_player_X4         null cells count = 1832\n",
      "26 away_player_X5         null cells count = 1832\n",
      "27 away_player_X6         null cells count = 1832\n",
      "28 away_player_X7         null cells count = 1832\n",
      "29 away_player_X8         null cells count = 1832\n",
      "30 away_player_X9         null cells count = 1833\n",
      "31 away_player_X10         null cells count = 1833\n",
      "32 away_player_X11         null cells count = 1839\n",
      "33 home_player_Y1         null cells count = 1821\n",
      "34 home_player_Y2         null cells count = 1821\n",
      "35 home_player_Y3         null cells count = 1832\n",
      "36 home_player_Y4         null cells count = 1832\n",
      "37 home_player_Y5         null cells count = 1832\n",
      "38 home_player_Y6         null cells count = 1832\n",
      "39 home_player_Y7         null cells count = 1832\n",
      "40 home_player_Y8         null cells count = 1832\n",
      "41 home_player_Y9         null cells count = 1832\n",
      "42 home_player_Y10         null cells count = 1832\n",
      "43 home_player_Y11         null cells count = 1832\n",
      "44 away_player_Y1         null cells count = 1832\n",
      "45 away_player_Y2         null cells count = 1832\n",
      "46 away_player_Y3         null cells count = 1832\n",
      "47 away_player_Y4         null cells count = 1832\n",
      "48 away_player_Y5         null cells count = 1832\n",
      "49 away_player_Y6         null cells count = 1832\n",
      "50 away_player_Y7         null cells count = 1832\n",
      "51 away_player_Y8         null cells count = 1832\n",
      "52 away_player_Y9         null cells count = 1833\n",
      "53 away_player_Y10         null cells count = 1833\n",
      "54 away_player_Y11         null cells count = 1839\n",
      "55 home_player_1         null cells count = 1224\n",
      "56 home_player_2         null cells count = 1315\n",
      "57 home_player_3         null cells count = 1281\n",
      "58 home_player_4         null cells count = 1323\n",
      "59 home_player_5         null cells count = 1316\n",
      "60 home_player_6         null cells count = 1325\n",
      "61 home_player_7         null cells count = 1227\n",
      "62 home_player_8         null cells count = 1309\n",
      "63 home_player_9         null cells count = 1273\n",
      "64 home_player_10         null cells count = 1436\n",
      "65 home_player_11         null cells count = 1555\n",
      "66 away_player_1         null cells count = 1234\n",
      "67 away_player_2         null cells count = 1278\n",
      "68 away_player_3         null cells count = 1293\n",
      "69 away_player_4         null cells count = 1321\n",
      "70 away_player_5         null cells count = 1335\n",
      "71 away_player_6         null cells count = 1313\n",
      "72 away_player_7         null cells count = 1235\n",
      "73 away_player_8         null cells count = 1341\n",
      "74 away_player_9         null cells count = 1328\n",
      "75 away_player_10         null cells count = 1441\n",
      "76 away_player_11         null cells count = 1554\n",
      "77 goal         null cells count = 11762\n",
      "78 shoton         null cells count = 11762\n",
      "79 shotoff         null cells count = 11762\n",
      "80 foulcommit         null cells count = 11762\n",
      "81 card         null cells count = 11762\n",
      "82 cross         null cells count = 11762\n",
      "83 corner         null cells count = 11762\n",
      "84 possession         null cells count = 11762\n",
      "85 B365H         null cells count = 3387\n",
      "86 B365D         null cells count = 3387\n",
      "87 B365A         null cells count = 3387\n",
      "88 BWH         null cells count = 3404\n",
      "89 BWD         null cells count = 3404\n",
      "90 BWA         null cells count = 3404\n",
      "91 IWH         null cells count = 3459\n",
      "92 IWD         null cells count = 3459\n",
      "93 IWA         null cells count = 3459\n",
      "94 LBH         null cells count = 3423\n",
      "95 LBD         null cells count = 3423\n",
      "96 LBA         null cells count = 3423\n",
      "97 PSH         null cells count = 14811\n",
      "98 PSD         null cells count = 14811\n",
      "99 PSA         null cells count = 14811\n",
      "100 WHH         null cells count = 3408\n",
      "101 WHD         null cells count = 3408\n",
      "102 WHA         null cells count = 3408\n",
      "103 SJH         null cells count = 8882\n",
      "104 SJD         null cells count = 8882\n",
      "105 SJA         null cells count = 8882\n",
      "106 VCH         null cells count = 3411\n",
      "107 VCD         null cells count = 3411\n",
      "108 VCA         null cells count = 3411\n",
      "109 GBH         null cells count = 11817\n",
      "110 GBD         null cells count = 11817\n",
      "111 GBA         null cells count = 11817\n",
      "112 BSH         null cells count = 11818\n",
      "113 BSD         null cells count = 11818\n",
      "114 BSA         null cells count = 11818\n"
     ]
    }
   ],
   "source": [
    "for i, v in enumerate(df_match.columns):\n",
    "    print(i,v,'        null cells count =', df_match[v].isnull().sum())"
   ]
  },
  {
   "cell_type": "markdown",
   "metadata": {},
   "source": [
    "There are several columns that are mostly empty compared to the large row numbers. These columns are necessarily required to \n",
    "be removed.   "
   ]
  },
  {
   "cell_type": "code",
   "execution_count": 54,
   "metadata": {},
   "outputs": [
    {
     "data": {
      "text/html": [
       "<div>\n",
       "<style scoped>\n",
       "    .dataframe tbody tr th:only-of-type {\n",
       "        vertical-align: middle;\n",
       "    }\n",
       "\n",
       "    .dataframe tbody tr th {\n",
       "        vertical-align: top;\n",
       "    }\n",
       "\n",
       "    .dataframe thead th {\n",
       "        text-align: right;\n",
       "    }\n",
       "</style>\n",
       "<table border=\"1\" class=\"dataframe\">\n",
       "  <thead>\n",
       "    <tr style=\"text-align: right;\">\n",
       "      <th></th>\n",
       "      <th>id</th>\n",
       "      <th>country_id</th>\n",
       "      <th>league_id</th>\n",
       "      <th>season</th>\n",
       "      <th>stage</th>\n",
       "      <th>date</th>\n",
       "      <th>match_api_id</th>\n",
       "      <th>home_team_api_id</th>\n",
       "      <th>away_team_api_id</th>\n",
       "      <th>home_team_goal</th>\n",
       "      <th>away_team_goal</th>\n",
       "    </tr>\n",
       "  </thead>\n",
       "  <tbody>\n",
       "    <tr>\n",
       "      <th>0</th>\n",
       "      <td>1</td>\n",
       "      <td>1</td>\n",
       "      <td>1</td>\n",
       "      <td>2008/2009</td>\n",
       "      <td>1</td>\n",
       "      <td>2008-08-17 00:00:00</td>\n",
       "      <td>492473</td>\n",
       "      <td>9987</td>\n",
       "      <td>9993</td>\n",
       "      <td>1</td>\n",
       "      <td>1</td>\n",
       "    </tr>\n",
       "    <tr>\n",
       "      <th>1</th>\n",
       "      <td>2</td>\n",
       "      <td>1</td>\n",
       "      <td>1</td>\n",
       "      <td>2008/2009</td>\n",
       "      <td>1</td>\n",
       "      <td>2008-08-16 00:00:00</td>\n",
       "      <td>492474</td>\n",
       "      <td>10000</td>\n",
       "      <td>9994</td>\n",
       "      <td>0</td>\n",
       "      <td>0</td>\n",
       "    </tr>\n",
       "    <tr>\n",
       "      <th>2</th>\n",
       "      <td>3</td>\n",
       "      <td>1</td>\n",
       "      <td>1</td>\n",
       "      <td>2008/2009</td>\n",
       "      <td>1</td>\n",
       "      <td>2008-08-16 00:00:00</td>\n",
       "      <td>492475</td>\n",
       "      <td>9984</td>\n",
       "      <td>8635</td>\n",
       "      <td>0</td>\n",
       "      <td>3</td>\n",
       "    </tr>\n",
       "    <tr>\n",
       "      <th>3</th>\n",
       "      <td>4</td>\n",
       "      <td>1</td>\n",
       "      <td>1</td>\n",
       "      <td>2008/2009</td>\n",
       "      <td>1</td>\n",
       "      <td>2008-08-17 00:00:00</td>\n",
       "      <td>492476</td>\n",
       "      <td>9991</td>\n",
       "      <td>9998</td>\n",
       "      <td>5</td>\n",
       "      <td>0</td>\n",
       "    </tr>\n",
       "    <tr>\n",
       "      <th>4</th>\n",
       "      <td>5</td>\n",
       "      <td>1</td>\n",
       "      <td>1</td>\n",
       "      <td>2008/2009</td>\n",
       "      <td>1</td>\n",
       "      <td>2008-08-16 00:00:00</td>\n",
       "      <td>492477</td>\n",
       "      <td>7947</td>\n",
       "      <td>9985</td>\n",
       "      <td>1</td>\n",
       "      <td>3</td>\n",
       "    </tr>\n",
       "  </tbody>\n",
       "</table>\n",
       "</div>"
      ],
      "text/plain": [
       "   id  country_id  league_id     season  stage                 date  \\\n",
       "0   1           1          1  2008/2009      1  2008-08-17 00:00:00   \n",
       "1   2           1          1  2008/2009      1  2008-08-16 00:00:00   \n",
       "2   3           1          1  2008/2009      1  2008-08-16 00:00:00   \n",
       "3   4           1          1  2008/2009      1  2008-08-17 00:00:00   \n",
       "4   5           1          1  2008/2009      1  2008-08-16 00:00:00   \n",
       "\n",
       "   match_api_id  home_team_api_id  away_team_api_id  home_team_goal  \\\n",
       "0        492473              9987              9993               1   \n",
       "1        492474             10000              9994               0   \n",
       "2        492475              9984              8635               0   \n",
       "3        492476              9991              9998               5   \n",
       "4        492477              7947              9985               1   \n",
       "\n",
       "   away_team_goal  \n",
       "0               1  \n",
       "1               0  \n",
       "2               3  \n",
       "3               0  \n",
       "4               3  "
      ]
     },
     "execution_count": 54,
     "metadata": {},
     "output_type": "execute_result"
    }
   ],
   "source": [
    "df_match.dropna(axis=1, inplace=True)\n",
    "df_match.head()"
   ]
  },
  {
   "cell_type": "code",
   "execution_count": 55,
   "metadata": {},
   "outputs": [
    {
     "data": {
      "text/plain": [
       "(25979, 11)"
      ]
     },
     "execution_count": 55,
     "metadata": {},
     "output_type": "execute_result"
    }
   ],
   "source": [
    "df_match.shape"
   ]
  },
  {
   "cell_type": "markdown",
   "metadata": {},
   "source": [
    "As illustrated previously, the ID and the league ID are also not required. The country ID shall be sufficient to access data through other tables. Addtionally, the **season** column will give the same information as the **date**. "
   ]
  },
  {
   "cell_type": "code",
   "execution_count": 56,
   "metadata": {},
   "outputs": [
    {
     "data": {
      "text/html": [
       "<div>\n",
       "<style scoped>\n",
       "    .dataframe tbody tr th:only-of-type {\n",
       "        vertical-align: middle;\n",
       "    }\n",
       "\n",
       "    .dataframe tbody tr th {\n",
       "        vertical-align: top;\n",
       "    }\n",
       "\n",
       "    .dataframe thead th {\n",
       "        text-align: right;\n",
       "    }\n",
       "</style>\n",
       "<table border=\"1\" class=\"dataframe\">\n",
       "  <thead>\n",
       "    <tr style=\"text-align: right;\">\n",
       "      <th></th>\n",
       "      <th>country_id</th>\n",
       "      <th>season</th>\n",
       "      <th>stage</th>\n",
       "      <th>match_api_id</th>\n",
       "      <th>home_team_api_id</th>\n",
       "      <th>away_team_api_id</th>\n",
       "      <th>home_team_goal</th>\n",
       "      <th>away_team_goal</th>\n",
       "    </tr>\n",
       "  </thead>\n",
       "  <tbody>\n",
       "    <tr>\n",
       "      <th>0</th>\n",
       "      <td>1</td>\n",
       "      <td>2008/2009</td>\n",
       "      <td>1</td>\n",
       "      <td>492473</td>\n",
       "      <td>9987</td>\n",
       "      <td>9993</td>\n",
       "      <td>1</td>\n",
       "      <td>1</td>\n",
       "    </tr>\n",
       "    <tr>\n",
       "      <th>1</th>\n",
       "      <td>1</td>\n",
       "      <td>2008/2009</td>\n",
       "      <td>1</td>\n",
       "      <td>492474</td>\n",
       "      <td>10000</td>\n",
       "      <td>9994</td>\n",
       "      <td>0</td>\n",
       "      <td>0</td>\n",
       "    </tr>\n",
       "    <tr>\n",
       "      <th>2</th>\n",
       "      <td>1</td>\n",
       "      <td>2008/2009</td>\n",
       "      <td>1</td>\n",
       "      <td>492475</td>\n",
       "      <td>9984</td>\n",
       "      <td>8635</td>\n",
       "      <td>0</td>\n",
       "      <td>3</td>\n",
       "    </tr>\n",
       "    <tr>\n",
       "      <th>3</th>\n",
       "      <td>1</td>\n",
       "      <td>2008/2009</td>\n",
       "      <td>1</td>\n",
       "      <td>492476</td>\n",
       "      <td>9991</td>\n",
       "      <td>9998</td>\n",
       "      <td>5</td>\n",
       "      <td>0</td>\n",
       "    </tr>\n",
       "    <tr>\n",
       "      <th>4</th>\n",
       "      <td>1</td>\n",
       "      <td>2008/2009</td>\n",
       "      <td>1</td>\n",
       "      <td>492477</td>\n",
       "      <td>7947</td>\n",
       "      <td>9985</td>\n",
       "      <td>1</td>\n",
       "      <td>3</td>\n",
       "    </tr>\n",
       "  </tbody>\n",
       "</table>\n",
       "</div>"
      ],
      "text/plain": [
       "   country_id     season  stage  match_api_id  home_team_api_id  \\\n",
       "0           1  2008/2009      1        492473              9987   \n",
       "1           1  2008/2009      1        492474             10000   \n",
       "2           1  2008/2009      1        492475              9984   \n",
       "3           1  2008/2009      1        492476              9991   \n",
       "4           1  2008/2009      1        492477              7947   \n",
       "\n",
       "   away_team_api_id  home_team_goal  away_team_goal  \n",
       "0              9993               1               1  \n",
       "1              9994               0               0  \n",
       "2              8635               0               3  \n",
       "3              9998               5               0  \n",
       "4              9985               1               3  "
      ]
     },
     "execution_count": 56,
     "metadata": {},
     "output_type": "execute_result"
    }
   ],
   "source": [
    "df_match.drop(columns=['id','league_id','date'], inplace=True)\n",
    "df_match.head()"
   ]
  },
  {
   "cell_type": "markdown",
   "metadata": {},
   "source": [
    "Notice that countries, home and away teams are listed as reference numbers. New columns for their reference names shall be added. This will facilitate analysis later on.\n",
    "\n",
    "To do so, for example; a new column named **country_name** shall be added as a copy of **country_id**. Then, the **country_id** for each row will be passed to access the ```df_country``` DataFrame and return the corresponding country name. Afterwards, the returned country name shall replace the **country_name** value in the ```df_match``` DataFrame. So on for home and away teams columns. It is also beneficial to do that for **league_names** as well. "
   ]
  },
  {
   "cell_type": "code",
   "execution_count": 57,
   "metadata": {},
   "outputs": [],
   "source": [
    "df_match.insert(1,'country_name', None)\n",
    "df_match.insert(2,'league_name', None)\n",
    "df_match.insert(6,'home_team_name', None)\n",
    "df_match.insert(7,'away_team_name', None)"
   ]
  },
  {
   "cell_type": "code",
   "execution_count": 58,
   "metadata": {},
   "outputs": [],
   "source": [
    "for i in df_match.index:\n",
    "    countryid = df_match.loc[i,'country_id']\n",
    "    homeid = df_match.loc[i,'home_team_api_id']\n",
    "    awayid = df_match.loc[i,'away_team_api_id']\n",
    "    \n",
    "    countryname = list(df_country[df_country['id'] == countryid].loc[:,'name'])[0]\n",
    "    df_match.loc[i,'country_name'] = countryname\n",
    "    \n",
    "    leaguename = list(df_league[df_league['country_id'] == countryid].loc[:,'name'])[0]\n",
    "    df_match.loc[i,'league_name'] = leaguename\n",
    "    \n",
    "    homename = list(df_team[df_team['team_api_id'] == homeid].loc[:,'team_long_name'])[0]\n",
    "    df_match.loc[i,'home_team_name'] = homename\n",
    "    \n",
    "    awayname = list(df_team[df_team['team_api_id'] == awayid].loc[:,'team_long_name'])[0]\n",
    "    df_match.loc[i,'away_team_name'] = awayname"
   ]
  },
  {
   "cell_type": "code",
   "execution_count": 59,
   "metadata": {
    "scrolled": false
   },
   "outputs": [
    {
     "data": {
      "text/html": [
       "<div>\n",
       "<style scoped>\n",
       "    .dataframe tbody tr th:only-of-type {\n",
       "        vertical-align: middle;\n",
       "    }\n",
       "\n",
       "    .dataframe tbody tr th {\n",
       "        vertical-align: top;\n",
       "    }\n",
       "\n",
       "    .dataframe thead th {\n",
       "        text-align: right;\n",
       "    }\n",
       "</style>\n",
       "<table border=\"1\" class=\"dataframe\">\n",
       "  <thead>\n",
       "    <tr style=\"text-align: right;\">\n",
       "      <th></th>\n",
       "      <th>country_id</th>\n",
       "      <th>country_name</th>\n",
       "      <th>league_name</th>\n",
       "      <th>season</th>\n",
       "      <th>stage</th>\n",
       "      <th>match_api_id</th>\n",
       "      <th>home_team_name</th>\n",
       "      <th>away_team_name</th>\n",
       "      <th>home_team_api_id</th>\n",
       "      <th>away_team_api_id</th>\n",
       "      <th>home_team_goal</th>\n",
       "      <th>away_team_goal</th>\n",
       "    </tr>\n",
       "  </thead>\n",
       "  <tbody>\n",
       "    <tr>\n",
       "      <th>0</th>\n",
       "      <td>1</td>\n",
       "      <td>Belgium</td>\n",
       "      <td>Belgium Jupiler League</td>\n",
       "      <td>2008/2009</td>\n",
       "      <td>1</td>\n",
       "      <td>492473</td>\n",
       "      <td>KRC Genk</td>\n",
       "      <td>Beerschot AC</td>\n",
       "      <td>9987</td>\n",
       "      <td>9993</td>\n",
       "      <td>1</td>\n",
       "      <td>1</td>\n",
       "    </tr>\n",
       "    <tr>\n",
       "      <th>1</th>\n",
       "      <td>1</td>\n",
       "      <td>Belgium</td>\n",
       "      <td>Belgium Jupiler League</td>\n",
       "      <td>2008/2009</td>\n",
       "      <td>1</td>\n",
       "      <td>492474</td>\n",
       "      <td>SV Zulte-Waregem</td>\n",
       "      <td>Sporting Lokeren</td>\n",
       "      <td>10000</td>\n",
       "      <td>9994</td>\n",
       "      <td>0</td>\n",
       "      <td>0</td>\n",
       "    </tr>\n",
       "    <tr>\n",
       "      <th>2</th>\n",
       "      <td>1</td>\n",
       "      <td>Belgium</td>\n",
       "      <td>Belgium Jupiler League</td>\n",
       "      <td>2008/2009</td>\n",
       "      <td>1</td>\n",
       "      <td>492475</td>\n",
       "      <td>KSV Cercle Brugge</td>\n",
       "      <td>RSC Anderlecht</td>\n",
       "      <td>9984</td>\n",
       "      <td>8635</td>\n",
       "      <td>0</td>\n",
       "      <td>3</td>\n",
       "    </tr>\n",
       "    <tr>\n",
       "      <th>3</th>\n",
       "      <td>1</td>\n",
       "      <td>Belgium</td>\n",
       "      <td>Belgium Jupiler League</td>\n",
       "      <td>2008/2009</td>\n",
       "      <td>1</td>\n",
       "      <td>492476</td>\n",
       "      <td>KAA Gent</td>\n",
       "      <td>RAEC Mons</td>\n",
       "      <td>9991</td>\n",
       "      <td>9998</td>\n",
       "      <td>5</td>\n",
       "      <td>0</td>\n",
       "    </tr>\n",
       "    <tr>\n",
       "      <th>4</th>\n",
       "      <td>1</td>\n",
       "      <td>Belgium</td>\n",
       "      <td>Belgium Jupiler League</td>\n",
       "      <td>2008/2009</td>\n",
       "      <td>1</td>\n",
       "      <td>492477</td>\n",
       "      <td>FCV Dender EH</td>\n",
       "      <td>Standard de Liège</td>\n",
       "      <td>7947</td>\n",
       "      <td>9985</td>\n",
       "      <td>1</td>\n",
       "      <td>3</td>\n",
       "    </tr>\n",
       "  </tbody>\n",
       "</table>\n",
       "</div>"
      ],
      "text/plain": [
       "   country_id country_name             league_name     season  stage  \\\n",
       "0           1      Belgium  Belgium Jupiler League  2008/2009      1   \n",
       "1           1      Belgium  Belgium Jupiler League  2008/2009      1   \n",
       "2           1      Belgium  Belgium Jupiler League  2008/2009      1   \n",
       "3           1      Belgium  Belgium Jupiler League  2008/2009      1   \n",
       "4           1      Belgium  Belgium Jupiler League  2008/2009      1   \n",
       "\n",
       "   match_api_id     home_team_name     away_team_name  home_team_api_id  \\\n",
       "0        492473           KRC Genk       Beerschot AC              9987   \n",
       "1        492474   SV Zulte-Waregem   Sporting Lokeren             10000   \n",
       "2        492475  KSV Cercle Brugge     RSC Anderlecht              9984   \n",
       "3        492476           KAA Gent          RAEC Mons              9991   \n",
       "4        492477      FCV Dender EH  Standard de Liège              7947   \n",
       "\n",
       "   away_team_api_id  home_team_goal  away_team_goal  \n",
       "0              9993               1               1  \n",
       "1              9994               0               0  \n",
       "2              8635               0               3  \n",
       "3              9998               5               0  \n",
       "4              9985               1               3  "
      ]
     },
     "execution_count": 59,
     "metadata": {},
     "output_type": "execute_result"
    }
   ],
   "source": [
    "df_match.head()"
   ]
  },
  {
   "cell_type": "markdown",
   "metadata": {},
   "source": [
    "There is no need for IDs' columns anymore."
   ]
  },
  {
   "cell_type": "code",
   "execution_count": 60,
   "metadata": {},
   "outputs": [
    {
     "data": {
      "text/html": [
       "<div>\n",
       "<style scoped>\n",
       "    .dataframe tbody tr th:only-of-type {\n",
       "        vertical-align: middle;\n",
       "    }\n",
       "\n",
       "    .dataframe tbody tr th {\n",
       "        vertical-align: top;\n",
       "    }\n",
       "\n",
       "    .dataframe thead th {\n",
       "        text-align: right;\n",
       "    }\n",
       "</style>\n",
       "<table border=\"1\" class=\"dataframe\">\n",
       "  <thead>\n",
       "    <tr style=\"text-align: right;\">\n",
       "      <th></th>\n",
       "      <th>country_name</th>\n",
       "      <th>league_name</th>\n",
       "      <th>season</th>\n",
       "      <th>stage</th>\n",
       "      <th>home_team_name</th>\n",
       "      <th>away_team_name</th>\n",
       "      <th>home_team_goal</th>\n",
       "      <th>away_team_goal</th>\n",
       "    </tr>\n",
       "  </thead>\n",
       "  <tbody>\n",
       "    <tr>\n",
       "      <th>0</th>\n",
       "      <td>Belgium</td>\n",
       "      <td>Belgium Jupiler League</td>\n",
       "      <td>2008/2009</td>\n",
       "      <td>1</td>\n",
       "      <td>KRC Genk</td>\n",
       "      <td>Beerschot AC</td>\n",
       "      <td>1</td>\n",
       "      <td>1</td>\n",
       "    </tr>\n",
       "    <tr>\n",
       "      <th>1</th>\n",
       "      <td>Belgium</td>\n",
       "      <td>Belgium Jupiler League</td>\n",
       "      <td>2008/2009</td>\n",
       "      <td>1</td>\n",
       "      <td>SV Zulte-Waregem</td>\n",
       "      <td>Sporting Lokeren</td>\n",
       "      <td>0</td>\n",
       "      <td>0</td>\n",
       "    </tr>\n",
       "    <tr>\n",
       "      <th>2</th>\n",
       "      <td>Belgium</td>\n",
       "      <td>Belgium Jupiler League</td>\n",
       "      <td>2008/2009</td>\n",
       "      <td>1</td>\n",
       "      <td>KSV Cercle Brugge</td>\n",
       "      <td>RSC Anderlecht</td>\n",
       "      <td>0</td>\n",
       "      <td>3</td>\n",
       "    </tr>\n",
       "    <tr>\n",
       "      <th>3</th>\n",
       "      <td>Belgium</td>\n",
       "      <td>Belgium Jupiler League</td>\n",
       "      <td>2008/2009</td>\n",
       "      <td>1</td>\n",
       "      <td>KAA Gent</td>\n",
       "      <td>RAEC Mons</td>\n",
       "      <td>5</td>\n",
       "      <td>0</td>\n",
       "    </tr>\n",
       "    <tr>\n",
       "      <th>4</th>\n",
       "      <td>Belgium</td>\n",
       "      <td>Belgium Jupiler League</td>\n",
       "      <td>2008/2009</td>\n",
       "      <td>1</td>\n",
       "      <td>FCV Dender EH</td>\n",
       "      <td>Standard de Liège</td>\n",
       "      <td>1</td>\n",
       "      <td>3</td>\n",
       "    </tr>\n",
       "  </tbody>\n",
       "</table>\n",
       "</div>"
      ],
      "text/plain": [
       "  country_name             league_name     season  stage     home_team_name  \\\n",
       "0      Belgium  Belgium Jupiler League  2008/2009      1           KRC Genk   \n",
       "1      Belgium  Belgium Jupiler League  2008/2009      1   SV Zulte-Waregem   \n",
       "2      Belgium  Belgium Jupiler League  2008/2009      1  KSV Cercle Brugge   \n",
       "3      Belgium  Belgium Jupiler League  2008/2009      1           KAA Gent   \n",
       "4      Belgium  Belgium Jupiler League  2008/2009      1      FCV Dender EH   \n",
       "\n",
       "      away_team_name  home_team_goal  away_team_goal  \n",
       "0       Beerschot AC               1               1  \n",
       "1   Sporting Lokeren               0               0  \n",
       "2     RSC Anderlecht               0               3  \n",
       "3          RAEC Mons               5               0  \n",
       "4  Standard de Liège               1               3  "
      ]
     },
     "execution_count": 60,
     "metadata": {},
     "output_type": "execute_result"
    }
   ],
   "source": [
    "df_match.drop(columns=['country_id', 'match_api_id','home_team_api_id','away_team_api_id'], inplace=True)\n",
    "df_match.head()"
   ]
  },
  {
   "cell_type": "markdown",
   "metadata": {},
   "source": [
    "From ```df_match```, we can extract a new DataFrame for team names with the league name and the country they belong to."
   ]
  },
  {
   "cell_type": "code",
   "execution_count": 61,
   "metadata": {},
   "outputs": [],
   "source": [
    "df_league_teams=df_match.loc[:,['country_name','league_name','home_team_name']]\n"
   ]
  },
  {
   "cell_type": "code",
   "execution_count": 62,
   "metadata": {},
   "outputs": [],
   "source": [
    "df_league_teams.drop_duplicates(subset=['home_team_name'],inplace=True)"
   ]
  },
  {
   "cell_type": "code",
   "execution_count": 63,
   "metadata": {},
   "outputs": [
    {
     "data": {
      "text/html": [
       "<div>\n",
       "<style scoped>\n",
       "    .dataframe tbody tr th:only-of-type {\n",
       "        vertical-align: middle;\n",
       "    }\n",
       "\n",
       "    .dataframe tbody tr th {\n",
       "        vertical-align: top;\n",
       "    }\n",
       "\n",
       "    .dataframe thead th {\n",
       "        text-align: right;\n",
       "    }\n",
       "</style>\n",
       "<table border=\"1\" class=\"dataframe\">\n",
       "  <thead>\n",
       "    <tr style=\"text-align: right;\">\n",
       "      <th></th>\n",
       "      <th>country_name</th>\n",
       "      <th>league_name</th>\n",
       "      <th>team_long_name</th>\n",
       "    </tr>\n",
       "  </thead>\n",
       "  <tbody>\n",
       "    <tr>\n",
       "      <th>0</th>\n",
       "      <td>Belgium</td>\n",
       "      <td>Belgium Jupiler League</td>\n",
       "      <td>KRC Genk</td>\n",
       "    </tr>\n",
       "    <tr>\n",
       "      <th>1</th>\n",
       "      <td>Belgium</td>\n",
       "      <td>Belgium Jupiler League</td>\n",
       "      <td>SV Zulte-Waregem</td>\n",
       "    </tr>\n",
       "    <tr>\n",
       "      <th>2</th>\n",
       "      <td>Belgium</td>\n",
       "      <td>Belgium Jupiler League</td>\n",
       "      <td>KSV Cercle Brugge</td>\n",
       "    </tr>\n",
       "    <tr>\n",
       "      <th>3</th>\n",
       "      <td>Belgium</td>\n",
       "      <td>Belgium Jupiler League</td>\n",
       "      <td>KAA Gent</td>\n",
       "    </tr>\n",
       "    <tr>\n",
       "      <th>4</th>\n",
       "      <td>Belgium</td>\n",
       "      <td>Belgium Jupiler League</td>\n",
       "      <td>FCV Dender EH</td>\n",
       "    </tr>\n",
       "  </tbody>\n",
       "</table>\n",
       "</div>"
      ],
      "text/plain": [
       "  country_name             league_name     team_long_name\n",
       "0      Belgium  Belgium Jupiler League           KRC Genk\n",
       "1      Belgium  Belgium Jupiler League   SV Zulte-Waregem\n",
       "2      Belgium  Belgium Jupiler League  KSV Cercle Brugge\n",
       "3      Belgium  Belgium Jupiler League           KAA Gent\n",
       "4      Belgium  Belgium Jupiler League      FCV Dender EH"
      ]
     },
     "execution_count": 63,
     "metadata": {},
     "output_type": "execute_result"
    }
   ],
   "source": [
    "df_league_teams.rename(columns={'home_team_name':'team_long_name'},inplace=True)\n",
    "df_league_teams.head()"
   ]
  },
  {
   "cell_type": "code",
   "execution_count": 64,
   "metadata": {},
   "outputs": [
    {
     "data": {
      "text/plain": [
       "(299, 3)"
      ]
     },
     "execution_count": 64,
     "metadata": {},
     "output_type": "execute_result"
    }
   ],
   "source": [
    "df_league_teams.shape"
   ]
  },
  {
   "cell_type": "markdown",
   "metadata": {},
   "source": [
    "### Next table is: Player"
   ]
  },
  {
   "cell_type": "code",
   "execution_count": 65,
   "metadata": {
    "scrolled": false
   },
   "outputs": [
    {
     "data": {
      "text/html": [
       "<div>\n",
       "<style scoped>\n",
       "    .dataframe tbody tr th:only-of-type {\n",
       "        vertical-align: middle;\n",
       "    }\n",
       "\n",
       "    .dataframe tbody tr th {\n",
       "        vertical-align: top;\n",
       "    }\n",
       "\n",
       "    .dataframe thead th {\n",
       "        text-align: right;\n",
       "    }\n",
       "</style>\n",
       "<table border=\"1\" class=\"dataframe\">\n",
       "  <thead>\n",
       "    <tr style=\"text-align: right;\">\n",
       "      <th></th>\n",
       "      <th>id</th>\n",
       "      <th>player_api_id</th>\n",
       "      <th>player_name</th>\n",
       "      <th>player_fifa_api_id</th>\n",
       "      <th>birthday</th>\n",
       "      <th>height</th>\n",
       "      <th>weight</th>\n",
       "    </tr>\n",
       "  </thead>\n",
       "  <tbody>\n",
       "    <tr>\n",
       "      <th>0</th>\n",
       "      <td>1</td>\n",
       "      <td>505942</td>\n",
       "      <td>Aaron Appindangoye</td>\n",
       "      <td>218353</td>\n",
       "      <td>1992-02-29 00:00:00</td>\n",
       "      <td>182.88</td>\n",
       "      <td>187</td>\n",
       "    </tr>\n",
       "    <tr>\n",
       "      <th>1</th>\n",
       "      <td>2</td>\n",
       "      <td>155782</td>\n",
       "      <td>Aaron Cresswell</td>\n",
       "      <td>189615</td>\n",
       "      <td>1989-12-15 00:00:00</td>\n",
       "      <td>170.18</td>\n",
       "      <td>146</td>\n",
       "    </tr>\n",
       "    <tr>\n",
       "      <th>2</th>\n",
       "      <td>3</td>\n",
       "      <td>162549</td>\n",
       "      <td>Aaron Doran</td>\n",
       "      <td>186170</td>\n",
       "      <td>1991-05-13 00:00:00</td>\n",
       "      <td>170.18</td>\n",
       "      <td>163</td>\n",
       "    </tr>\n",
       "    <tr>\n",
       "      <th>3</th>\n",
       "      <td>4</td>\n",
       "      <td>30572</td>\n",
       "      <td>Aaron Galindo</td>\n",
       "      <td>140161</td>\n",
       "      <td>1982-05-08 00:00:00</td>\n",
       "      <td>182.88</td>\n",
       "      <td>198</td>\n",
       "    </tr>\n",
       "    <tr>\n",
       "      <th>4</th>\n",
       "      <td>5</td>\n",
       "      <td>23780</td>\n",
       "      <td>Aaron Hughes</td>\n",
       "      <td>17725</td>\n",
       "      <td>1979-11-08 00:00:00</td>\n",
       "      <td>182.88</td>\n",
       "      <td>154</td>\n",
       "    </tr>\n",
       "  </tbody>\n",
       "</table>\n",
       "</div>"
      ],
      "text/plain": [
       "   id  player_api_id         player_name  player_fifa_api_id  \\\n",
       "0   1         505942  Aaron Appindangoye              218353   \n",
       "1   2         155782     Aaron Cresswell              189615   \n",
       "2   3         162549         Aaron Doran              186170   \n",
       "3   4          30572       Aaron Galindo              140161   \n",
       "4   5          23780        Aaron Hughes               17725   \n",
       "\n",
       "              birthday  height  weight  \n",
       "0  1992-02-29 00:00:00  182.88     187  \n",
       "1  1989-12-15 00:00:00  170.18     146  \n",
       "2  1991-05-13 00:00:00  170.18     163  \n",
       "3  1982-05-08 00:00:00  182.88     198  \n",
       "4  1979-11-08 00:00:00  182.88     154  "
      ]
     },
     "execution_count": 65,
     "metadata": {},
     "output_type": "execute_result"
    }
   ],
   "source": [
    "df_player = sql_read('Player')\n",
    "df_player.head()"
   ]
  },
  {
   "cell_type": "code",
   "execution_count": 66,
   "metadata": {},
   "outputs": [
    {
     "data": {
      "text/plain": [
       "(11060, 7)"
      ]
     },
     "execution_count": 66,
     "metadata": {},
     "output_type": "execute_result"
    }
   ],
   "source": [
    "df_player.shape"
   ]
  },
  {
   "cell_type": "markdown",
   "metadata": {},
   "source": [
    "The table is listing 11k+ players' name, their basic information as well as their reference numbers.\n",
    "\n"
   ]
  },
  {
   "cell_type": "markdown",
   "metadata": {},
   "source": [
    "### Following is the Player Attributes table:"
   ]
  },
  {
   "cell_type": "code",
   "execution_count": 67,
   "metadata": {},
   "outputs": [
    {
     "data": {
      "text/html": [
       "<div>\n",
       "<style scoped>\n",
       "    .dataframe tbody tr th:only-of-type {\n",
       "        vertical-align: middle;\n",
       "    }\n",
       "\n",
       "    .dataframe tbody tr th {\n",
       "        vertical-align: top;\n",
       "    }\n",
       "\n",
       "    .dataframe thead th {\n",
       "        text-align: right;\n",
       "    }\n",
       "</style>\n",
       "<table border=\"1\" class=\"dataframe\">\n",
       "  <thead>\n",
       "    <tr style=\"text-align: right;\">\n",
       "      <th></th>\n",
       "      <th>id</th>\n",
       "      <th>player_fifa_api_id</th>\n",
       "      <th>player_api_id</th>\n",
       "      <th>date</th>\n",
       "      <th>overall_rating</th>\n",
       "      <th>potential</th>\n",
       "      <th>preferred_foot</th>\n",
       "      <th>attacking_work_rate</th>\n",
       "      <th>defensive_work_rate</th>\n",
       "      <th>crossing</th>\n",
       "      <th>...</th>\n",
       "      <th>vision</th>\n",
       "      <th>penalties</th>\n",
       "      <th>marking</th>\n",
       "      <th>standing_tackle</th>\n",
       "      <th>sliding_tackle</th>\n",
       "      <th>gk_diving</th>\n",
       "      <th>gk_handling</th>\n",
       "      <th>gk_kicking</th>\n",
       "      <th>gk_positioning</th>\n",
       "      <th>gk_reflexes</th>\n",
       "    </tr>\n",
       "  </thead>\n",
       "  <tbody>\n",
       "    <tr>\n",
       "      <th>0</th>\n",
       "      <td>1</td>\n",
       "      <td>218353</td>\n",
       "      <td>505942</td>\n",
       "      <td>2016-02-18 00:00:00</td>\n",
       "      <td>67.0</td>\n",
       "      <td>71.0</td>\n",
       "      <td>right</td>\n",
       "      <td>medium</td>\n",
       "      <td>medium</td>\n",
       "      <td>49.0</td>\n",
       "      <td>...</td>\n",
       "      <td>54.0</td>\n",
       "      <td>48.0</td>\n",
       "      <td>65.0</td>\n",
       "      <td>69.0</td>\n",
       "      <td>69.0</td>\n",
       "      <td>6.0</td>\n",
       "      <td>11.0</td>\n",
       "      <td>10.0</td>\n",
       "      <td>8.0</td>\n",
       "      <td>8.0</td>\n",
       "    </tr>\n",
       "    <tr>\n",
       "      <th>1</th>\n",
       "      <td>2</td>\n",
       "      <td>218353</td>\n",
       "      <td>505942</td>\n",
       "      <td>2015-11-19 00:00:00</td>\n",
       "      <td>67.0</td>\n",
       "      <td>71.0</td>\n",
       "      <td>right</td>\n",
       "      <td>medium</td>\n",
       "      <td>medium</td>\n",
       "      <td>49.0</td>\n",
       "      <td>...</td>\n",
       "      <td>54.0</td>\n",
       "      <td>48.0</td>\n",
       "      <td>65.0</td>\n",
       "      <td>69.0</td>\n",
       "      <td>69.0</td>\n",
       "      <td>6.0</td>\n",
       "      <td>11.0</td>\n",
       "      <td>10.0</td>\n",
       "      <td>8.0</td>\n",
       "      <td>8.0</td>\n",
       "    </tr>\n",
       "    <tr>\n",
       "      <th>2</th>\n",
       "      <td>3</td>\n",
       "      <td>218353</td>\n",
       "      <td>505942</td>\n",
       "      <td>2015-09-21 00:00:00</td>\n",
       "      <td>62.0</td>\n",
       "      <td>66.0</td>\n",
       "      <td>right</td>\n",
       "      <td>medium</td>\n",
       "      <td>medium</td>\n",
       "      <td>49.0</td>\n",
       "      <td>...</td>\n",
       "      <td>54.0</td>\n",
       "      <td>48.0</td>\n",
       "      <td>65.0</td>\n",
       "      <td>66.0</td>\n",
       "      <td>69.0</td>\n",
       "      <td>6.0</td>\n",
       "      <td>11.0</td>\n",
       "      <td>10.0</td>\n",
       "      <td>8.0</td>\n",
       "      <td>8.0</td>\n",
       "    </tr>\n",
       "    <tr>\n",
       "      <th>3</th>\n",
       "      <td>4</td>\n",
       "      <td>218353</td>\n",
       "      <td>505942</td>\n",
       "      <td>2015-03-20 00:00:00</td>\n",
       "      <td>61.0</td>\n",
       "      <td>65.0</td>\n",
       "      <td>right</td>\n",
       "      <td>medium</td>\n",
       "      <td>medium</td>\n",
       "      <td>48.0</td>\n",
       "      <td>...</td>\n",
       "      <td>53.0</td>\n",
       "      <td>47.0</td>\n",
       "      <td>62.0</td>\n",
       "      <td>63.0</td>\n",
       "      <td>66.0</td>\n",
       "      <td>5.0</td>\n",
       "      <td>10.0</td>\n",
       "      <td>9.0</td>\n",
       "      <td>7.0</td>\n",
       "      <td>7.0</td>\n",
       "    </tr>\n",
       "    <tr>\n",
       "      <th>4</th>\n",
       "      <td>5</td>\n",
       "      <td>218353</td>\n",
       "      <td>505942</td>\n",
       "      <td>2007-02-22 00:00:00</td>\n",
       "      <td>61.0</td>\n",
       "      <td>65.0</td>\n",
       "      <td>right</td>\n",
       "      <td>medium</td>\n",
       "      <td>medium</td>\n",
       "      <td>48.0</td>\n",
       "      <td>...</td>\n",
       "      <td>53.0</td>\n",
       "      <td>47.0</td>\n",
       "      <td>62.0</td>\n",
       "      <td>63.0</td>\n",
       "      <td>66.0</td>\n",
       "      <td>5.0</td>\n",
       "      <td>10.0</td>\n",
       "      <td>9.0</td>\n",
       "      <td>7.0</td>\n",
       "      <td>7.0</td>\n",
       "    </tr>\n",
       "  </tbody>\n",
       "</table>\n",
       "<p>5 rows × 42 columns</p>\n",
       "</div>"
      ],
      "text/plain": [
       "   id  player_fifa_api_id  player_api_id                 date  overall_rating  \\\n",
       "0   1              218353         505942  2016-02-18 00:00:00            67.0   \n",
       "1   2              218353         505942  2015-11-19 00:00:00            67.0   \n",
       "2   3              218353         505942  2015-09-21 00:00:00            62.0   \n",
       "3   4              218353         505942  2015-03-20 00:00:00            61.0   \n",
       "4   5              218353         505942  2007-02-22 00:00:00            61.0   \n",
       "\n",
       "   potential preferred_foot attacking_work_rate defensive_work_rate  crossing  \\\n",
       "0       71.0          right              medium              medium      49.0   \n",
       "1       71.0          right              medium              medium      49.0   \n",
       "2       66.0          right              medium              medium      49.0   \n",
       "3       65.0          right              medium              medium      48.0   \n",
       "4       65.0          right              medium              medium      48.0   \n",
       "\n",
       "   ...  vision  penalties  marking  standing_tackle  sliding_tackle  \\\n",
       "0  ...    54.0       48.0     65.0             69.0            69.0   \n",
       "1  ...    54.0       48.0     65.0             69.0            69.0   \n",
       "2  ...    54.0       48.0     65.0             66.0            69.0   \n",
       "3  ...    53.0       47.0     62.0             63.0            66.0   \n",
       "4  ...    53.0       47.0     62.0             63.0            66.0   \n",
       "\n",
       "   gk_diving  gk_handling  gk_kicking  gk_positioning  gk_reflexes  \n",
       "0        6.0         11.0        10.0             8.0          8.0  \n",
       "1        6.0         11.0        10.0             8.0          8.0  \n",
       "2        6.0         11.0        10.0             8.0          8.0  \n",
       "3        5.0         10.0         9.0             7.0          7.0  \n",
       "4        5.0         10.0         9.0             7.0          7.0  \n",
       "\n",
       "[5 rows x 42 columns]"
      ]
     },
     "execution_count": 67,
     "metadata": {},
     "output_type": "execute_result"
    }
   ],
   "source": [
    "df_player_att = sql_read('Player_Attributes')\n",
    "df_player_att.head()"
   ]
  },
  {
   "cell_type": "code",
   "execution_count": 68,
   "metadata": {},
   "outputs": [
    {
     "data": {
      "text/plain": [
       "(183978, 42)"
      ]
     },
     "execution_count": 68,
     "metadata": {},
     "output_type": "execute_result"
    }
   ],
   "source": [
    "df_player_att.shape"
   ]
  },
  {
   "cell_type": "markdown",
   "metadata": {},
   "source": [
    "The table contains attributes associated with player's ID and the time when these data were recorded. let us explore more the columns names and the availabilty of null cells. But first, let's remove the unnecessary id columns.\n",
    "\n",
    "Also, we will keep the **date**, **overall_rating** and **preferred_foot** and remove all other columns."
   ]
  },
  {
   "cell_type": "code",
   "execution_count": 69,
   "metadata": {},
   "outputs": [],
   "source": [
    "df_player_att.drop(['id','player_fifa_api_id', 'potential'],axis=1,inplace=True)\n",
    "df_player_att.drop(list(df_player_att.loc[:,'attacking_work_rate':'gk_reflexes'].columns),axis=1,inplace=True)"
   ]
  },
  {
   "cell_type": "markdown",
   "metadata": {},
   "source": [
    "\n",
    "<a id=\"object types in df_player_att\"></a>"
   ]
  },
  {
   "cell_type": "code",
   "execution_count": 70,
   "metadata": {
    "scrolled": true
   },
   "outputs": [
    {
     "name": "stdout",
     "output_type": "stream",
     "text": [
      "<class 'pandas.core.frame.DataFrame'>\n",
      "RangeIndex: 183978 entries, 0 to 183977\n",
      "Data columns (total 4 columns):\n",
      " #   Column          Non-Null Count   Dtype  \n",
      "---  ------          --------------   -----  \n",
      " 0   player_api_id   183978 non-null  int64  \n",
      " 1   date            183978 non-null  object \n",
      " 2   overall_rating  183142 non-null  float64\n",
      " 3   preferred_foot  183142 non-null  object \n",
      "dtypes: float64(1), int64(1), object(2)\n",
      "memory usage: 5.6+ MB\n"
     ]
    }
   ],
   "source": [
    "df_player_att.info()"
   ]
  },
  {
   "cell_type": "markdown",
   "metadata": {},
   "source": [
    "\n",
    "As shown, there are two columns with empty cells, **preferred_foot** is object type."
   ]
  },
  {
   "cell_type": "code",
   "execution_count": 71,
   "metadata": {},
   "outputs": [
    {
     "data": {
      "text/plain": [
       "41269     56\n",
       "210278    56\n",
       "42116     55\n",
       "26472     54\n",
       "179795    53\n",
       "          ..\n",
       "33688      2\n",
       "470720     2\n",
       "37366      2\n",
       "9144       2\n",
       "240561     2\n",
       "Name: player_api_id, Length: 11060, dtype: int64"
      ]
     },
     "execution_count": 71,
     "metadata": {},
     "output_type": "execute_result"
    }
   ],
   "source": [
    "df_player_att['player_api_id'].value_counts()"
   ]
  },
  {
   "cell_type": "markdown",
   "metadata": {},
   "source": [
    "The attributes table includes data for the same number of players existing in player table. However, not all players have same count of records. let's dicover the null cells and fix them.  "
   ]
  },
  {
   "cell_type": "markdown",
   "metadata": {},
   "source": [
    "The empty cells shall be filled with  forward method for string type columns and then be filled with a mean value of the same column for numerical type columns. Bearing in mind that table should be grouped by each player before filling empty cells. This is crucial to ensure that values are consistent with attributes of player not outliers.\n",
    "\n",
    "For example, the player api id 31684 has some empty cells."
   ]
  },
  {
   "cell_type": "code",
   "execution_count": 72,
   "metadata": {},
   "outputs": [
    {
     "data": {
      "text/html": [
       "<div>\n",
       "<style scoped>\n",
       "    .dataframe tbody tr th:only-of-type {\n",
       "        vertical-align: middle;\n",
       "    }\n",
       "\n",
       "    .dataframe tbody tr th {\n",
       "        vertical-align: top;\n",
       "    }\n",
       "\n",
       "    .dataframe thead th {\n",
       "        text-align: right;\n",
       "    }\n",
       "</style>\n",
       "<table border=\"1\" class=\"dataframe\">\n",
       "  <thead>\n",
       "    <tr style=\"text-align: right;\">\n",
       "      <th></th>\n",
       "      <th>player_api_id</th>\n",
       "      <th>date</th>\n",
       "      <th>overall_rating</th>\n",
       "      <th>preferred_foot</th>\n",
       "    </tr>\n",
       "  </thead>\n",
       "  <tbody>\n",
       "    <tr>\n",
       "      <th>478</th>\n",
       "      <td>31684</td>\n",
       "      <td>2009-08-30 00:00:00</td>\n",
       "      <td>73.0</td>\n",
       "      <td>right</td>\n",
       "    </tr>\n",
       "    <tr>\n",
       "      <th>479</th>\n",
       "      <td>31684</td>\n",
       "      <td>2009-02-22 00:00:00</td>\n",
       "      <td>77.0</td>\n",
       "      <td>right</td>\n",
       "    </tr>\n",
       "    <tr>\n",
       "      <th>480</th>\n",
       "      <td>31684</td>\n",
       "      <td>2008-08-30 00:00:00</td>\n",
       "      <td>77.0</td>\n",
       "      <td>right</td>\n",
       "    </tr>\n",
       "    <tr>\n",
       "      <th>481</th>\n",
       "      <td>31684</td>\n",
       "      <td>2007-08-30 00:00:00</td>\n",
       "      <td>78.0</td>\n",
       "      <td>right</td>\n",
       "    </tr>\n",
       "    <tr>\n",
       "      <th>482</th>\n",
       "      <td>31684</td>\n",
       "      <td>2007-02-22 00:00:00</td>\n",
       "      <td>78.0</td>\n",
       "      <td>right</td>\n",
       "    </tr>\n",
       "    <tr>\n",
       "      <th>483</th>\n",
       "      <td>31684</td>\n",
       "      <td>2007-02-22 00:00:00</td>\n",
       "      <td>NaN</td>\n",
       "      <td>None</td>\n",
       "    </tr>\n",
       "  </tbody>\n",
       "</table>\n",
       "</div>"
      ],
      "text/plain": [
       "     player_api_id                 date  overall_rating preferred_foot\n",
       "478          31684  2009-08-30 00:00:00            73.0          right\n",
       "479          31684  2009-02-22 00:00:00            77.0          right\n",
       "480          31684  2008-08-30 00:00:00            77.0          right\n",
       "481          31684  2007-08-30 00:00:00            78.0          right\n",
       "482          31684  2007-02-22 00:00:00            78.0          right\n",
       "483          31684  2007-02-22 00:00:00             NaN           None"
      ]
     },
     "execution_count": 72,
     "metadata": {},
     "output_type": "execute_result"
    }
   ],
   "source": [
    "df_player_att[df_player_att['player_api_id']==31684]"
   ]
  },
  {
   "cell_type": "markdown",
   "metadata": {},
   "source": [
    "Applying the forward filling method for all <a href=\"#object types in df_player_att\">string columns</a>.\n"
   ]
  },
  {
   "cell_type": "code",
   "execution_count": 73,
   "metadata": {},
   "outputs": [],
   "source": [
    "df_player_att['preferred_foot'].fillna(method='ffill', inplace=True)"
   ]
  },
  {
   "cell_type": "markdown",
   "metadata": {},
   "source": [
    "Applying the mean value filling method for all table data."
   ]
  },
  {
   "cell_type": "code",
   "execution_count": 74,
   "metadata": {},
   "outputs": [],
   "source": [
    "df_player_att['overall_rating'] = df_player_att['overall_rating'].fillna(df_player_att.groupby('player_api_id')['overall_rating'].transform('mean'))"
   ]
  },
  {
   "cell_type": "markdown",
   "metadata": {},
   "source": [
    "Let's check the same player data once more."
   ]
  },
  {
   "cell_type": "code",
   "execution_count": 75,
   "metadata": {},
   "outputs": [
    {
     "data": {
      "text/html": [
       "<div>\n",
       "<style scoped>\n",
       "    .dataframe tbody tr th:only-of-type {\n",
       "        vertical-align: middle;\n",
       "    }\n",
       "\n",
       "    .dataframe tbody tr th {\n",
       "        vertical-align: top;\n",
       "    }\n",
       "\n",
       "    .dataframe thead th {\n",
       "        text-align: right;\n",
       "    }\n",
       "</style>\n",
       "<table border=\"1\" class=\"dataframe\">\n",
       "  <thead>\n",
       "    <tr style=\"text-align: right;\">\n",
       "      <th></th>\n",
       "      <th>player_api_id</th>\n",
       "      <th>date</th>\n",
       "      <th>overall_rating</th>\n",
       "      <th>preferred_foot</th>\n",
       "    </tr>\n",
       "  </thead>\n",
       "  <tbody>\n",
       "    <tr>\n",
       "      <th>478</th>\n",
       "      <td>31684</td>\n",
       "      <td>2009-08-30 00:00:00</td>\n",
       "      <td>73.0</td>\n",
       "      <td>right</td>\n",
       "    </tr>\n",
       "    <tr>\n",
       "      <th>479</th>\n",
       "      <td>31684</td>\n",
       "      <td>2009-02-22 00:00:00</td>\n",
       "      <td>77.0</td>\n",
       "      <td>right</td>\n",
       "    </tr>\n",
       "    <tr>\n",
       "      <th>480</th>\n",
       "      <td>31684</td>\n",
       "      <td>2008-08-30 00:00:00</td>\n",
       "      <td>77.0</td>\n",
       "      <td>right</td>\n",
       "    </tr>\n",
       "    <tr>\n",
       "      <th>481</th>\n",
       "      <td>31684</td>\n",
       "      <td>2007-08-30 00:00:00</td>\n",
       "      <td>78.0</td>\n",
       "      <td>right</td>\n",
       "    </tr>\n",
       "    <tr>\n",
       "      <th>482</th>\n",
       "      <td>31684</td>\n",
       "      <td>2007-02-22 00:00:00</td>\n",
       "      <td>78.0</td>\n",
       "      <td>right</td>\n",
       "    </tr>\n",
       "    <tr>\n",
       "      <th>483</th>\n",
       "      <td>31684</td>\n",
       "      <td>2007-02-22 00:00:00</td>\n",
       "      <td>76.6</td>\n",
       "      <td>right</td>\n",
       "    </tr>\n",
       "  </tbody>\n",
       "</table>\n",
       "</div>"
      ],
      "text/plain": [
       "     player_api_id                 date  overall_rating preferred_foot\n",
       "478          31684  2009-08-30 00:00:00            73.0          right\n",
       "479          31684  2009-02-22 00:00:00            77.0          right\n",
       "480          31684  2008-08-30 00:00:00            77.0          right\n",
       "481          31684  2007-08-30 00:00:00            78.0          right\n",
       "482          31684  2007-02-22 00:00:00            78.0          right\n",
       "483          31684  2007-02-22 00:00:00            76.6          right"
      ]
     },
     "execution_count": 75,
     "metadata": {},
     "output_type": "execute_result"
    }
   ],
   "source": [
    "df_player_att[df_player_att['player_api_id']==31684]"
   ]
  },
  {
   "cell_type": "markdown",
   "metadata": {},
   "source": [
    "Removing all duplicates"
   ]
  },
  {
   "cell_type": "code",
   "execution_count": 76,
   "metadata": {},
   "outputs": [
    {
     "data": {
      "text/html": [
       "<div>\n",
       "<style scoped>\n",
       "    .dataframe tbody tr th:only-of-type {\n",
       "        vertical-align: middle;\n",
       "    }\n",
       "\n",
       "    .dataframe tbody tr th {\n",
       "        vertical-align: top;\n",
       "    }\n",
       "\n",
       "    .dataframe thead th {\n",
       "        text-align: right;\n",
       "    }\n",
       "</style>\n",
       "<table border=\"1\" class=\"dataframe\">\n",
       "  <thead>\n",
       "    <tr style=\"text-align: right;\">\n",
       "      <th></th>\n",
       "      <th>player_api_id</th>\n",
       "      <th>date</th>\n",
       "      <th>overall_rating</th>\n",
       "      <th>preferred_foot</th>\n",
       "    </tr>\n",
       "  </thead>\n",
       "  <tbody>\n",
       "    <tr>\n",
       "      <th>41984</th>\n",
       "      <td>32580</td>\n",
       "      <td>2007-02-22 00:00:00</td>\n",
       "      <td>65.000000</td>\n",
       "      <td>right</td>\n",
       "    </tr>\n",
       "    <tr>\n",
       "      <th>41985</th>\n",
       "      <td>32580</td>\n",
       "      <td>2007-02-22 00:00:00</td>\n",
       "      <td>65.000000</td>\n",
       "      <td>right</td>\n",
       "    </tr>\n",
       "    <tr>\n",
       "      <th>42351</th>\n",
       "      <td>31909</td>\n",
       "      <td>2007-02-22 00:00:00</td>\n",
       "      <td>58.000000</td>\n",
       "      <td>right</td>\n",
       "    </tr>\n",
       "    <tr>\n",
       "      <th>42352</th>\n",
       "      <td>31909</td>\n",
       "      <td>2007-02-22 00:00:00</td>\n",
       "      <td>58.000000</td>\n",
       "      <td>right</td>\n",
       "    </tr>\n",
       "    <tr>\n",
       "      <th>74986</th>\n",
       "      <td>23446</td>\n",
       "      <td>2007-02-22 00:00:00</td>\n",
       "      <td>65.000000</td>\n",
       "      <td>right</td>\n",
       "    </tr>\n",
       "    <tr>\n",
       "      <th>74987</th>\n",
       "      <td>23446</td>\n",
       "      <td>2007-02-22 00:00:00</td>\n",
       "      <td>65.000000</td>\n",
       "      <td>right</td>\n",
       "    </tr>\n",
       "    <tr>\n",
       "      <th>81929</th>\n",
       "      <td>38497</td>\n",
       "      <td>2007-02-22 00:00:00</td>\n",
       "      <td>60.000000</td>\n",
       "      <td>right</td>\n",
       "    </tr>\n",
       "    <tr>\n",
       "      <th>81930</th>\n",
       "      <td>38497</td>\n",
       "      <td>2007-02-22 00:00:00</td>\n",
       "      <td>60.000000</td>\n",
       "      <td>right</td>\n",
       "    </tr>\n",
       "    <tr>\n",
       "      <th>84497</th>\n",
       "      <td>26165</td>\n",
       "      <td>2007-02-22 00:00:00</td>\n",
       "      <td>79.000000</td>\n",
       "      <td>right</td>\n",
       "    </tr>\n",
       "    <tr>\n",
       "      <th>84498</th>\n",
       "      <td>26165</td>\n",
       "      <td>2007-02-22 00:00:00</td>\n",
       "      <td>79.000000</td>\n",
       "      <td>right</td>\n",
       "    </tr>\n",
       "    <tr>\n",
       "      <th>84765</th>\n",
       "      <td>40133</td>\n",
       "      <td>2007-02-22 00:00:00</td>\n",
       "      <td>61.000000</td>\n",
       "      <td>right</td>\n",
       "    </tr>\n",
       "    <tr>\n",
       "      <th>84766</th>\n",
       "      <td>40133</td>\n",
       "      <td>2007-02-22 00:00:00</td>\n",
       "      <td>61.000000</td>\n",
       "      <td>right</td>\n",
       "    </tr>\n",
       "    <tr>\n",
       "      <th>84923</th>\n",
       "      <td>32968</td>\n",
       "      <td>2007-02-22 00:00:00</td>\n",
       "      <td>66.894737</td>\n",
       "      <td>right</td>\n",
       "    </tr>\n",
       "    <tr>\n",
       "      <th>84924</th>\n",
       "      <td>32968</td>\n",
       "      <td>2007-02-22 00:00:00</td>\n",
       "      <td>66.894737</td>\n",
       "      <td>right</td>\n",
       "    </tr>\n",
       "    <tr>\n",
       "      <th>150596</th>\n",
       "      <td>39659</td>\n",
       "      <td>2007-02-22 00:00:00</td>\n",
       "      <td>64.000000</td>\n",
       "      <td>right</td>\n",
       "    </tr>\n",
       "    <tr>\n",
       "      <th>150597</th>\n",
       "      <td>39659</td>\n",
       "      <td>2007-02-22 00:00:00</td>\n",
       "      <td>64.000000</td>\n",
       "      <td>right</td>\n",
       "    </tr>\n",
       "    <tr>\n",
       "      <th>152266</th>\n",
       "      <td>39629</td>\n",
       "      <td>2007-02-22 00:00:00</td>\n",
       "      <td>61.000000</td>\n",
       "      <td>left</td>\n",
       "    </tr>\n",
       "    <tr>\n",
       "      <th>152267</th>\n",
       "      <td>39629</td>\n",
       "      <td>2007-02-22 00:00:00</td>\n",
       "      <td>61.000000</td>\n",
       "      <td>left</td>\n",
       "    </tr>\n",
       "    <tr>\n",
       "      <th>157223</th>\n",
       "      <td>46459</td>\n",
       "      <td>2007-02-22 00:00:00</td>\n",
       "      <td>63.000000</td>\n",
       "      <td>right</td>\n",
       "    </tr>\n",
       "    <tr>\n",
       "      <th>157224</th>\n",
       "      <td>46459</td>\n",
       "      <td>2007-02-22 00:00:00</td>\n",
       "      <td>63.000000</td>\n",
       "      <td>right</td>\n",
       "    </tr>\n",
       "    <tr>\n",
       "      <th>166155</th>\n",
       "      <td>42114</td>\n",
       "      <td>2007-02-22 00:00:00</td>\n",
       "      <td>53.000000</td>\n",
       "      <td>left</td>\n",
       "    </tr>\n",
       "    <tr>\n",
       "      <th>166156</th>\n",
       "      <td>42114</td>\n",
       "      <td>2007-02-22 00:00:00</td>\n",
       "      <td>53.000000</td>\n",
       "      <td>left</td>\n",
       "    </tr>\n",
       "    <tr>\n",
       "      <th>169143</th>\n",
       "      <td>40433</td>\n",
       "      <td>2007-02-22 00:00:00</td>\n",
       "      <td>60.000000</td>\n",
       "      <td>right</td>\n",
       "    </tr>\n",
       "    <tr>\n",
       "      <th>169144</th>\n",
       "      <td>40433</td>\n",
       "      <td>2007-02-22 00:00:00</td>\n",
       "      <td>60.000000</td>\n",
       "      <td>right</td>\n",
       "    </tr>\n",
       "    <tr>\n",
       "      <th>178024</th>\n",
       "      <td>34662</td>\n",
       "      <td>2007-02-22 00:00:00</td>\n",
       "      <td>62.000000</td>\n",
       "      <td>right</td>\n",
       "    </tr>\n",
       "    <tr>\n",
       "      <th>178025</th>\n",
       "      <td>34662</td>\n",
       "      <td>2007-02-22 00:00:00</td>\n",
       "      <td>62.000000</td>\n",
       "      <td>right</td>\n",
       "    </tr>\n",
       "    <tr>\n",
       "      <th>178611</th>\n",
       "      <td>37577</td>\n",
       "      <td>2007-02-22 00:00:00</td>\n",
       "      <td>67.000000</td>\n",
       "      <td>right</td>\n",
       "    </tr>\n",
       "    <tr>\n",
       "      <th>178612</th>\n",
       "      <td>37577</td>\n",
       "      <td>2007-02-22 00:00:00</td>\n",
       "      <td>67.000000</td>\n",
       "      <td>right</td>\n",
       "    </tr>\n",
       "  </tbody>\n",
       "</table>\n",
       "</div>"
      ],
      "text/plain": [
       "        player_api_id                 date  overall_rating preferred_foot\n",
       "41984           32580  2007-02-22 00:00:00       65.000000          right\n",
       "41985           32580  2007-02-22 00:00:00       65.000000          right\n",
       "42351           31909  2007-02-22 00:00:00       58.000000          right\n",
       "42352           31909  2007-02-22 00:00:00       58.000000          right\n",
       "74986           23446  2007-02-22 00:00:00       65.000000          right\n",
       "74987           23446  2007-02-22 00:00:00       65.000000          right\n",
       "81929           38497  2007-02-22 00:00:00       60.000000          right\n",
       "81930           38497  2007-02-22 00:00:00       60.000000          right\n",
       "84497           26165  2007-02-22 00:00:00       79.000000          right\n",
       "84498           26165  2007-02-22 00:00:00       79.000000          right\n",
       "84765           40133  2007-02-22 00:00:00       61.000000          right\n",
       "84766           40133  2007-02-22 00:00:00       61.000000          right\n",
       "84923           32968  2007-02-22 00:00:00       66.894737          right\n",
       "84924           32968  2007-02-22 00:00:00       66.894737          right\n",
       "150596          39659  2007-02-22 00:00:00       64.000000          right\n",
       "150597          39659  2007-02-22 00:00:00       64.000000          right\n",
       "152266          39629  2007-02-22 00:00:00       61.000000           left\n",
       "152267          39629  2007-02-22 00:00:00       61.000000           left\n",
       "157223          46459  2007-02-22 00:00:00       63.000000          right\n",
       "157224          46459  2007-02-22 00:00:00       63.000000          right\n",
       "166155          42114  2007-02-22 00:00:00       53.000000           left\n",
       "166156          42114  2007-02-22 00:00:00       53.000000           left\n",
       "169143          40433  2007-02-22 00:00:00       60.000000          right\n",
       "169144          40433  2007-02-22 00:00:00       60.000000          right\n",
       "178024          34662  2007-02-22 00:00:00       62.000000          right\n",
       "178025          34662  2007-02-22 00:00:00       62.000000          right\n",
       "178611          37577  2007-02-22 00:00:00       67.000000          right\n",
       "178612          37577  2007-02-22 00:00:00       67.000000          right"
      ]
     },
     "execution_count": 76,
     "metadata": {},
     "output_type": "execute_result"
    }
   ],
   "source": [
    "df_player_att.loc[df_player_att.duplicated(keep=False),:]"
   ]
  },
  {
   "cell_type": "code",
   "execution_count": 77,
   "metadata": {},
   "outputs": [],
   "source": [
    "df_player_att=df_player_att.drop_duplicates()"
   ]
  },
  {
   "cell_type": "code",
   "execution_count": 78,
   "metadata": {
    "scrolled": true
   },
   "outputs": [
    {
     "name": "stdout",
     "output_type": "stream",
     "text": [
      "<class 'pandas.core.frame.DataFrame'>\n",
      "Int64Index: 183964 entries, 0 to 183977\n",
      "Data columns (total 4 columns):\n",
      " #   Column          Non-Null Count   Dtype  \n",
      "---  ------          --------------   -----  \n",
      " 0   player_api_id   183964 non-null  int64  \n",
      " 1   date            183964 non-null  object \n",
      " 2   overall_rating  183964 non-null  float64\n",
      " 3   preferred_foot  183964 non-null  object \n",
      "dtypes: float64(1), int64(1), object(2)\n",
      "memory usage: 7.0+ MB\n"
     ]
    }
   ],
   "source": [
    "df_player_att.info()"
   ]
  },
  {
   "cell_type": "markdown",
   "metadata": {},
   "source": [
    "Making the DataFrame ready for analysis by replacing the **player_api_id** with **player_name** shall take long time. Alternatively, we will access the ```df_player``` for **player_name** during the analysis process as needed.  "
   ]
  },
  {
   "cell_type": "markdown",
   "metadata": {},
   "source": [
    "### Lastly, the Team Attributes table:"
   ]
  },
  {
   "cell_type": "code",
   "execution_count": 79,
   "metadata": {},
   "outputs": [
    {
     "data": {
      "text/html": [
       "<div>\n",
       "<style scoped>\n",
       "    .dataframe tbody tr th:only-of-type {\n",
       "        vertical-align: middle;\n",
       "    }\n",
       "\n",
       "    .dataframe tbody tr th {\n",
       "        vertical-align: top;\n",
       "    }\n",
       "\n",
       "    .dataframe thead th {\n",
       "        text-align: right;\n",
       "    }\n",
       "</style>\n",
       "<table border=\"1\" class=\"dataframe\">\n",
       "  <thead>\n",
       "    <tr style=\"text-align: right;\">\n",
       "      <th></th>\n",
       "      <th>id</th>\n",
       "      <th>team_fifa_api_id</th>\n",
       "      <th>team_api_id</th>\n",
       "      <th>date</th>\n",
       "      <th>buildUpPlaySpeed</th>\n",
       "      <th>buildUpPlaySpeedClass</th>\n",
       "      <th>buildUpPlayDribbling</th>\n",
       "      <th>buildUpPlayDribblingClass</th>\n",
       "      <th>buildUpPlayPassing</th>\n",
       "      <th>buildUpPlayPassingClass</th>\n",
       "      <th>...</th>\n",
       "      <th>chanceCreationShooting</th>\n",
       "      <th>chanceCreationShootingClass</th>\n",
       "      <th>chanceCreationPositioningClass</th>\n",
       "      <th>defencePressure</th>\n",
       "      <th>defencePressureClass</th>\n",
       "      <th>defenceAggression</th>\n",
       "      <th>defenceAggressionClass</th>\n",
       "      <th>defenceTeamWidth</th>\n",
       "      <th>defenceTeamWidthClass</th>\n",
       "      <th>defenceDefenderLineClass</th>\n",
       "    </tr>\n",
       "  </thead>\n",
       "  <tbody>\n",
       "    <tr>\n",
       "      <th>0</th>\n",
       "      <td>1</td>\n",
       "      <td>434</td>\n",
       "      <td>9930</td>\n",
       "      <td>2010-02-22 00:00:00</td>\n",
       "      <td>60</td>\n",
       "      <td>Balanced</td>\n",
       "      <td>NaN</td>\n",
       "      <td>Little</td>\n",
       "      <td>50</td>\n",
       "      <td>Mixed</td>\n",
       "      <td>...</td>\n",
       "      <td>55</td>\n",
       "      <td>Normal</td>\n",
       "      <td>Organised</td>\n",
       "      <td>50</td>\n",
       "      <td>Medium</td>\n",
       "      <td>55</td>\n",
       "      <td>Press</td>\n",
       "      <td>45</td>\n",
       "      <td>Normal</td>\n",
       "      <td>Cover</td>\n",
       "    </tr>\n",
       "    <tr>\n",
       "      <th>1</th>\n",
       "      <td>2</td>\n",
       "      <td>434</td>\n",
       "      <td>9930</td>\n",
       "      <td>2014-09-19 00:00:00</td>\n",
       "      <td>52</td>\n",
       "      <td>Balanced</td>\n",
       "      <td>48.0</td>\n",
       "      <td>Normal</td>\n",
       "      <td>56</td>\n",
       "      <td>Mixed</td>\n",
       "      <td>...</td>\n",
       "      <td>64</td>\n",
       "      <td>Normal</td>\n",
       "      <td>Organised</td>\n",
       "      <td>47</td>\n",
       "      <td>Medium</td>\n",
       "      <td>44</td>\n",
       "      <td>Press</td>\n",
       "      <td>54</td>\n",
       "      <td>Normal</td>\n",
       "      <td>Cover</td>\n",
       "    </tr>\n",
       "    <tr>\n",
       "      <th>2</th>\n",
       "      <td>3</td>\n",
       "      <td>434</td>\n",
       "      <td>9930</td>\n",
       "      <td>2015-09-10 00:00:00</td>\n",
       "      <td>47</td>\n",
       "      <td>Balanced</td>\n",
       "      <td>41.0</td>\n",
       "      <td>Normal</td>\n",
       "      <td>54</td>\n",
       "      <td>Mixed</td>\n",
       "      <td>...</td>\n",
       "      <td>64</td>\n",
       "      <td>Normal</td>\n",
       "      <td>Organised</td>\n",
       "      <td>47</td>\n",
       "      <td>Medium</td>\n",
       "      <td>44</td>\n",
       "      <td>Press</td>\n",
       "      <td>54</td>\n",
       "      <td>Normal</td>\n",
       "      <td>Cover</td>\n",
       "    </tr>\n",
       "    <tr>\n",
       "      <th>3</th>\n",
       "      <td>4</td>\n",
       "      <td>77</td>\n",
       "      <td>8485</td>\n",
       "      <td>2010-02-22 00:00:00</td>\n",
       "      <td>70</td>\n",
       "      <td>Fast</td>\n",
       "      <td>NaN</td>\n",
       "      <td>Little</td>\n",
       "      <td>70</td>\n",
       "      <td>Long</td>\n",
       "      <td>...</td>\n",
       "      <td>70</td>\n",
       "      <td>Lots</td>\n",
       "      <td>Organised</td>\n",
       "      <td>60</td>\n",
       "      <td>Medium</td>\n",
       "      <td>70</td>\n",
       "      <td>Double</td>\n",
       "      <td>70</td>\n",
       "      <td>Wide</td>\n",
       "      <td>Cover</td>\n",
       "    </tr>\n",
       "    <tr>\n",
       "      <th>4</th>\n",
       "      <td>5</td>\n",
       "      <td>77</td>\n",
       "      <td>8485</td>\n",
       "      <td>2011-02-22 00:00:00</td>\n",
       "      <td>47</td>\n",
       "      <td>Balanced</td>\n",
       "      <td>NaN</td>\n",
       "      <td>Little</td>\n",
       "      <td>52</td>\n",
       "      <td>Mixed</td>\n",
       "      <td>...</td>\n",
       "      <td>52</td>\n",
       "      <td>Normal</td>\n",
       "      <td>Organised</td>\n",
       "      <td>47</td>\n",
       "      <td>Medium</td>\n",
       "      <td>47</td>\n",
       "      <td>Press</td>\n",
       "      <td>52</td>\n",
       "      <td>Normal</td>\n",
       "      <td>Cover</td>\n",
       "    </tr>\n",
       "  </tbody>\n",
       "</table>\n",
       "<p>5 rows × 25 columns</p>\n",
       "</div>"
      ],
      "text/plain": [
       "   id  team_fifa_api_id  team_api_id                 date  buildUpPlaySpeed  \\\n",
       "0   1               434         9930  2010-02-22 00:00:00                60   \n",
       "1   2               434         9930  2014-09-19 00:00:00                52   \n",
       "2   3               434         9930  2015-09-10 00:00:00                47   \n",
       "3   4                77         8485  2010-02-22 00:00:00                70   \n",
       "4   5                77         8485  2011-02-22 00:00:00                47   \n",
       "\n",
       "  buildUpPlaySpeedClass  buildUpPlayDribbling buildUpPlayDribblingClass  \\\n",
       "0              Balanced                   NaN                    Little   \n",
       "1              Balanced                  48.0                    Normal   \n",
       "2              Balanced                  41.0                    Normal   \n",
       "3                  Fast                   NaN                    Little   \n",
       "4              Balanced                   NaN                    Little   \n",
       "\n",
       "   buildUpPlayPassing buildUpPlayPassingClass  ... chanceCreationShooting  \\\n",
       "0                  50                   Mixed  ...                     55   \n",
       "1                  56                   Mixed  ...                     64   \n",
       "2                  54                   Mixed  ...                     64   \n",
       "3                  70                    Long  ...                     70   \n",
       "4                  52                   Mixed  ...                     52   \n",
       "\n",
       "   chanceCreationShootingClass chanceCreationPositioningClass  \\\n",
       "0                       Normal                      Organised   \n",
       "1                       Normal                      Organised   \n",
       "2                       Normal                      Organised   \n",
       "3                         Lots                      Organised   \n",
       "4                       Normal                      Organised   \n",
       "\n",
       "   defencePressure defencePressureClass  defenceAggression  \\\n",
       "0               50               Medium                 55   \n",
       "1               47               Medium                 44   \n",
       "2               47               Medium                 44   \n",
       "3               60               Medium                 70   \n",
       "4               47               Medium                 47   \n",
       "\n",
       "  defenceAggressionClass defenceTeamWidth  defenceTeamWidthClass  \\\n",
       "0                  Press               45                 Normal   \n",
       "1                  Press               54                 Normal   \n",
       "2                  Press               54                 Normal   \n",
       "3                 Double               70                   Wide   \n",
       "4                  Press               52                 Normal   \n",
       "\n",
       "  defenceDefenderLineClass  \n",
       "0                    Cover  \n",
       "1                    Cover  \n",
       "2                    Cover  \n",
       "3                    Cover  \n",
       "4                    Cover  \n",
       "\n",
       "[5 rows x 25 columns]"
      ]
     },
     "execution_count": 79,
     "metadata": {},
     "output_type": "execute_result"
    }
   ],
   "source": [
    "df_team_att = sql_read('Team_Attributes')\n",
    "df_team_att.head()"
   ]
  },
  {
   "cell_type": "code",
   "execution_count": 80,
   "metadata": {},
   "outputs": [
    {
     "data": {
      "text/plain": [
       "(1458, 25)"
      ]
     },
     "execution_count": 80,
     "metadata": {},
     "output_type": "execute_result"
    }
   ],
   "source": [
    "df_team_att.shape"
   ]
  },
  {
   "cell_type": "markdown",
   "metadata": {},
   "source": [
    "The table contains attributes associated with team's ID and the time when these data were recorded. let us explore more the columns names and the availabilty of null cells."
   ]
  },
  {
   "cell_type": "code",
   "execution_count": 81,
   "metadata": {},
   "outputs": [
    {
     "name": "stdout",
     "output_type": "stream",
     "text": [
      "<class 'pandas.core.frame.DataFrame'>\n",
      "RangeIndex: 1458 entries, 0 to 1457\n",
      "Data columns (total 25 columns):\n",
      " #   Column                          Non-Null Count  Dtype  \n",
      "---  ------                          --------------  -----  \n",
      " 0   id                              1458 non-null   int64  \n",
      " 1   team_fifa_api_id                1458 non-null   int64  \n",
      " 2   team_api_id                     1458 non-null   int64  \n",
      " 3   date                            1458 non-null   object \n",
      " 4   buildUpPlaySpeed                1458 non-null   int64  \n",
      " 5   buildUpPlaySpeedClass           1458 non-null   object \n",
      " 6   buildUpPlayDribbling            489 non-null    float64\n",
      " 7   buildUpPlayDribblingClass       1458 non-null   object \n",
      " 8   buildUpPlayPassing              1458 non-null   int64  \n",
      " 9   buildUpPlayPassingClass         1458 non-null   object \n",
      " 10  buildUpPlayPositioningClass     1458 non-null   object \n",
      " 11  chanceCreationPassing           1458 non-null   int64  \n",
      " 12  chanceCreationPassingClass      1458 non-null   object \n",
      " 13  chanceCreationCrossing          1458 non-null   int64  \n",
      " 14  chanceCreationCrossingClass     1458 non-null   object \n",
      " 15  chanceCreationShooting          1458 non-null   int64  \n",
      " 16  chanceCreationShootingClass     1458 non-null   object \n",
      " 17  chanceCreationPositioningClass  1458 non-null   object \n",
      " 18  defencePressure                 1458 non-null   int64  \n",
      " 19  defencePressureClass            1458 non-null   object \n",
      " 20  defenceAggression               1458 non-null   int64  \n",
      " 21  defenceAggressionClass          1458 non-null   object \n",
      " 22  defenceTeamWidth                1458 non-null   int64  \n",
      " 23  defenceTeamWidthClass           1458 non-null   object \n",
      " 24  defenceDefenderLineClass        1458 non-null   object \n",
      "dtypes: float64(1), int64(11), object(13)\n",
      "memory usage: 284.9+ KB\n"
     ]
    }
   ],
   "source": [
    "df_team_att.info()"
   ]
  },
  {
   "cell_type": "markdown",
   "metadata": {},
   "source": [
    "The above summary tells that each attribute is divided into numerical rating column and text rating column. Fortunately, only one column contains empty cells. This coumn is dropped as well as the id and fifa api id."
   ]
  },
  {
   "cell_type": "code",
   "execution_count": 82,
   "metadata": {},
   "outputs": [],
   "source": [
    "df_team_att.drop(columns=['id','team_fifa_api_id','buildUpPlayDribbling'], inplace=True)"
   ]
  },
  {
   "cell_type": "code",
   "execution_count": 83,
   "metadata": {
    "scrolled": false
   },
   "outputs": [
    {
     "data": {
      "text/html": [
       "<div>\n",
       "<style scoped>\n",
       "    .dataframe tbody tr th:only-of-type {\n",
       "        vertical-align: middle;\n",
       "    }\n",
       "\n",
       "    .dataframe tbody tr th {\n",
       "        vertical-align: top;\n",
       "    }\n",
       "\n",
       "    .dataframe thead th {\n",
       "        text-align: right;\n",
       "    }\n",
       "</style>\n",
       "<table border=\"1\" class=\"dataframe\">\n",
       "  <thead>\n",
       "    <tr style=\"text-align: right;\">\n",
       "      <th></th>\n",
       "      <th>team_api_id</th>\n",
       "      <th>date</th>\n",
       "      <th>buildUpPlaySpeed</th>\n",
       "      <th>buildUpPlaySpeedClass</th>\n",
       "      <th>buildUpPlayDribblingClass</th>\n",
       "      <th>buildUpPlayPassing</th>\n",
       "      <th>buildUpPlayPassingClass</th>\n",
       "      <th>buildUpPlayPositioningClass</th>\n",
       "      <th>chanceCreationPassing</th>\n",
       "      <th>chanceCreationPassingClass</th>\n",
       "      <th>...</th>\n",
       "      <th>chanceCreationShooting</th>\n",
       "      <th>chanceCreationShootingClass</th>\n",
       "      <th>chanceCreationPositioningClass</th>\n",
       "      <th>defencePressure</th>\n",
       "      <th>defencePressureClass</th>\n",
       "      <th>defenceAggression</th>\n",
       "      <th>defenceAggressionClass</th>\n",
       "      <th>defenceTeamWidth</th>\n",
       "      <th>defenceTeamWidthClass</th>\n",
       "      <th>defenceDefenderLineClass</th>\n",
       "    </tr>\n",
       "  </thead>\n",
       "  <tbody>\n",
       "    <tr>\n",
       "      <th>0</th>\n",
       "      <td>9930</td>\n",
       "      <td>2010-02-22 00:00:00</td>\n",
       "      <td>60</td>\n",
       "      <td>Balanced</td>\n",
       "      <td>Little</td>\n",
       "      <td>50</td>\n",
       "      <td>Mixed</td>\n",
       "      <td>Organised</td>\n",
       "      <td>60</td>\n",
       "      <td>Normal</td>\n",
       "      <td>...</td>\n",
       "      <td>55</td>\n",
       "      <td>Normal</td>\n",
       "      <td>Organised</td>\n",
       "      <td>50</td>\n",
       "      <td>Medium</td>\n",
       "      <td>55</td>\n",
       "      <td>Press</td>\n",
       "      <td>45</td>\n",
       "      <td>Normal</td>\n",
       "      <td>Cover</td>\n",
       "    </tr>\n",
       "    <tr>\n",
       "      <th>1</th>\n",
       "      <td>9930</td>\n",
       "      <td>2014-09-19 00:00:00</td>\n",
       "      <td>52</td>\n",
       "      <td>Balanced</td>\n",
       "      <td>Normal</td>\n",
       "      <td>56</td>\n",
       "      <td>Mixed</td>\n",
       "      <td>Organised</td>\n",
       "      <td>54</td>\n",
       "      <td>Normal</td>\n",
       "      <td>...</td>\n",
       "      <td>64</td>\n",
       "      <td>Normal</td>\n",
       "      <td>Organised</td>\n",
       "      <td>47</td>\n",
       "      <td>Medium</td>\n",
       "      <td>44</td>\n",
       "      <td>Press</td>\n",
       "      <td>54</td>\n",
       "      <td>Normal</td>\n",
       "      <td>Cover</td>\n",
       "    </tr>\n",
       "    <tr>\n",
       "      <th>2</th>\n",
       "      <td>9930</td>\n",
       "      <td>2015-09-10 00:00:00</td>\n",
       "      <td>47</td>\n",
       "      <td>Balanced</td>\n",
       "      <td>Normal</td>\n",
       "      <td>54</td>\n",
       "      <td>Mixed</td>\n",
       "      <td>Organised</td>\n",
       "      <td>54</td>\n",
       "      <td>Normal</td>\n",
       "      <td>...</td>\n",
       "      <td>64</td>\n",
       "      <td>Normal</td>\n",
       "      <td>Organised</td>\n",
       "      <td>47</td>\n",
       "      <td>Medium</td>\n",
       "      <td>44</td>\n",
       "      <td>Press</td>\n",
       "      <td>54</td>\n",
       "      <td>Normal</td>\n",
       "      <td>Cover</td>\n",
       "    </tr>\n",
       "    <tr>\n",
       "      <th>3</th>\n",
       "      <td>8485</td>\n",
       "      <td>2010-02-22 00:00:00</td>\n",
       "      <td>70</td>\n",
       "      <td>Fast</td>\n",
       "      <td>Little</td>\n",
       "      <td>70</td>\n",
       "      <td>Long</td>\n",
       "      <td>Organised</td>\n",
       "      <td>70</td>\n",
       "      <td>Risky</td>\n",
       "      <td>...</td>\n",
       "      <td>70</td>\n",
       "      <td>Lots</td>\n",
       "      <td>Organised</td>\n",
       "      <td>60</td>\n",
       "      <td>Medium</td>\n",
       "      <td>70</td>\n",
       "      <td>Double</td>\n",
       "      <td>70</td>\n",
       "      <td>Wide</td>\n",
       "      <td>Cover</td>\n",
       "    </tr>\n",
       "    <tr>\n",
       "      <th>4</th>\n",
       "      <td>8485</td>\n",
       "      <td>2011-02-22 00:00:00</td>\n",
       "      <td>47</td>\n",
       "      <td>Balanced</td>\n",
       "      <td>Little</td>\n",
       "      <td>52</td>\n",
       "      <td>Mixed</td>\n",
       "      <td>Organised</td>\n",
       "      <td>53</td>\n",
       "      <td>Normal</td>\n",
       "      <td>...</td>\n",
       "      <td>52</td>\n",
       "      <td>Normal</td>\n",
       "      <td>Organised</td>\n",
       "      <td>47</td>\n",
       "      <td>Medium</td>\n",
       "      <td>47</td>\n",
       "      <td>Press</td>\n",
       "      <td>52</td>\n",
       "      <td>Normal</td>\n",
       "      <td>Cover</td>\n",
       "    </tr>\n",
       "  </tbody>\n",
       "</table>\n",
       "<p>5 rows × 22 columns</p>\n",
       "</div>"
      ],
      "text/plain": [
       "   team_api_id                 date  buildUpPlaySpeed buildUpPlaySpeedClass  \\\n",
       "0         9930  2010-02-22 00:00:00                60              Balanced   \n",
       "1         9930  2014-09-19 00:00:00                52              Balanced   \n",
       "2         9930  2015-09-10 00:00:00                47              Balanced   \n",
       "3         8485  2010-02-22 00:00:00                70                  Fast   \n",
       "4         8485  2011-02-22 00:00:00                47              Balanced   \n",
       "\n",
       "  buildUpPlayDribblingClass  buildUpPlayPassing buildUpPlayPassingClass  \\\n",
       "0                    Little                  50                   Mixed   \n",
       "1                    Normal                  56                   Mixed   \n",
       "2                    Normal                  54                   Mixed   \n",
       "3                    Little                  70                    Long   \n",
       "4                    Little                  52                   Mixed   \n",
       "\n",
       "  buildUpPlayPositioningClass  chanceCreationPassing  \\\n",
       "0                   Organised                     60   \n",
       "1                   Organised                     54   \n",
       "2                   Organised                     54   \n",
       "3                   Organised                     70   \n",
       "4                   Organised                     53   \n",
       "\n",
       "  chanceCreationPassingClass  ...  chanceCreationShooting  \\\n",
       "0                     Normal  ...                      55   \n",
       "1                     Normal  ...                      64   \n",
       "2                     Normal  ...                      64   \n",
       "3                      Risky  ...                      70   \n",
       "4                     Normal  ...                      52   \n",
       "\n",
       "  chanceCreationShootingClass  chanceCreationPositioningClass defencePressure  \\\n",
       "0                      Normal                       Organised              50   \n",
       "1                      Normal                       Organised              47   \n",
       "2                      Normal                       Organised              47   \n",
       "3                        Lots                       Organised              60   \n",
       "4                      Normal                       Organised              47   \n",
       "\n",
       "  defencePressureClass  defenceAggression defenceAggressionClass  \\\n",
       "0               Medium                 55                  Press   \n",
       "1               Medium                 44                  Press   \n",
       "2               Medium                 44                  Press   \n",
       "3               Medium                 70                 Double   \n",
       "4               Medium                 47                  Press   \n",
       "\n",
       "   defenceTeamWidth defenceTeamWidthClass  defenceDefenderLineClass  \n",
       "0                45                Normal                     Cover  \n",
       "1                54                Normal                     Cover  \n",
       "2                54                Normal                     Cover  \n",
       "3                70                  Wide                     Cover  \n",
       "4                52                Normal                     Cover  \n",
       "\n",
       "[5 rows x 22 columns]"
      ]
     },
     "execution_count": 83,
     "metadata": {},
     "output_type": "execute_result"
    }
   ],
   "source": [
    "df_team_att.head()"
   ]
  },
  {
   "cell_type": "markdown",
   "metadata": {},
   "source": [
    "The team attributes shall be ready for analysis if we added columns for country name, league name and team long name. This is important step to come up with informative data instead of having the team api id which is not common or known. Afterwards, the id column can be removed."
   ]
  },
  {
   "cell_type": "code",
   "execution_count": 84,
   "metadata": {},
   "outputs": [],
   "source": [
    "df_team_att.insert(1,'country_name', None)\n",
    "df_team_att.insert(2,'league_name', None)\n",
    "df_team_att.insert(3,'team_long_name', None)\n"
   ]
  },
  {
   "cell_type": "code",
   "execution_count": 85,
   "metadata": {},
   "outputs": [],
   "source": [
    "for i in df_team_att.index:\n",
    "    teamid = df_team_att.loc[i,'team_api_id']\n",
    "    teamname = list(df_team[df_team['team_api_id'] == teamid].loc[:,'team_long_name'])[0]\n",
    "    \n",
    "    df_team_att.loc[i,'team_long_name'] = teamname\n",
    "    \n",
    "    countryname = list(df_league_teams[df_league_teams['team_long_name'] == teamname].loc[:,'country_name'])[0]\n",
    "    df_team_att.loc[i,'country_name'] = countryname\n",
    "    \n",
    "    leaguename = list(df_league_teams[df_league_teams['team_long_name'] == teamname].loc[:,'league_name'])[0]\n",
    "    df_team_att.loc[i,'league_name'] = leaguename"
   ]
  },
  {
   "cell_type": "code",
   "execution_count": 86,
   "metadata": {},
   "outputs": [
    {
     "data": {
      "text/html": [
       "<div>\n",
       "<style scoped>\n",
       "    .dataframe tbody tr th:only-of-type {\n",
       "        vertical-align: middle;\n",
       "    }\n",
       "\n",
       "    .dataframe tbody tr th {\n",
       "        vertical-align: top;\n",
       "    }\n",
       "\n",
       "    .dataframe thead th {\n",
       "        text-align: right;\n",
       "    }\n",
       "</style>\n",
       "<table border=\"1\" class=\"dataframe\">\n",
       "  <thead>\n",
       "    <tr style=\"text-align: right;\">\n",
       "      <th></th>\n",
       "      <th>country_name</th>\n",
       "      <th>league_name</th>\n",
       "      <th>team_long_name</th>\n",
       "      <th>date</th>\n",
       "      <th>buildUpPlaySpeed</th>\n",
       "      <th>buildUpPlaySpeedClass</th>\n",
       "      <th>buildUpPlayDribblingClass</th>\n",
       "      <th>buildUpPlayPassing</th>\n",
       "      <th>buildUpPlayPassingClass</th>\n",
       "      <th>buildUpPlayPositioningClass</th>\n",
       "      <th>...</th>\n",
       "      <th>chanceCreationShooting</th>\n",
       "      <th>chanceCreationShootingClass</th>\n",
       "      <th>chanceCreationPositioningClass</th>\n",
       "      <th>defencePressure</th>\n",
       "      <th>defencePressureClass</th>\n",
       "      <th>defenceAggression</th>\n",
       "      <th>defenceAggressionClass</th>\n",
       "      <th>defenceTeamWidth</th>\n",
       "      <th>defenceTeamWidthClass</th>\n",
       "      <th>defenceDefenderLineClass</th>\n",
       "    </tr>\n",
       "  </thead>\n",
       "  <tbody>\n",
       "    <tr>\n",
       "      <th>0</th>\n",
       "      <td>Switzerland</td>\n",
       "      <td>Switzerland Super League</td>\n",
       "      <td>FC Aarau</td>\n",
       "      <td>2010-02-22 00:00:00</td>\n",
       "      <td>60</td>\n",
       "      <td>Balanced</td>\n",
       "      <td>Little</td>\n",
       "      <td>50</td>\n",
       "      <td>Mixed</td>\n",
       "      <td>Organised</td>\n",
       "      <td>...</td>\n",
       "      <td>55</td>\n",
       "      <td>Normal</td>\n",
       "      <td>Organised</td>\n",
       "      <td>50</td>\n",
       "      <td>Medium</td>\n",
       "      <td>55</td>\n",
       "      <td>Press</td>\n",
       "      <td>45</td>\n",
       "      <td>Normal</td>\n",
       "      <td>Cover</td>\n",
       "    </tr>\n",
       "    <tr>\n",
       "      <th>1</th>\n",
       "      <td>Switzerland</td>\n",
       "      <td>Switzerland Super League</td>\n",
       "      <td>FC Aarau</td>\n",
       "      <td>2014-09-19 00:00:00</td>\n",
       "      <td>52</td>\n",
       "      <td>Balanced</td>\n",
       "      <td>Normal</td>\n",
       "      <td>56</td>\n",
       "      <td>Mixed</td>\n",
       "      <td>Organised</td>\n",
       "      <td>...</td>\n",
       "      <td>64</td>\n",
       "      <td>Normal</td>\n",
       "      <td>Organised</td>\n",
       "      <td>47</td>\n",
       "      <td>Medium</td>\n",
       "      <td>44</td>\n",
       "      <td>Press</td>\n",
       "      <td>54</td>\n",
       "      <td>Normal</td>\n",
       "      <td>Cover</td>\n",
       "    </tr>\n",
       "    <tr>\n",
       "      <th>2</th>\n",
       "      <td>Switzerland</td>\n",
       "      <td>Switzerland Super League</td>\n",
       "      <td>FC Aarau</td>\n",
       "      <td>2015-09-10 00:00:00</td>\n",
       "      <td>47</td>\n",
       "      <td>Balanced</td>\n",
       "      <td>Normal</td>\n",
       "      <td>54</td>\n",
       "      <td>Mixed</td>\n",
       "      <td>Organised</td>\n",
       "      <td>...</td>\n",
       "      <td>64</td>\n",
       "      <td>Normal</td>\n",
       "      <td>Organised</td>\n",
       "      <td>47</td>\n",
       "      <td>Medium</td>\n",
       "      <td>44</td>\n",
       "      <td>Press</td>\n",
       "      <td>54</td>\n",
       "      <td>Normal</td>\n",
       "      <td>Cover</td>\n",
       "    </tr>\n",
       "    <tr>\n",
       "      <th>3</th>\n",
       "      <td>Scotland</td>\n",
       "      <td>Scotland Premier League</td>\n",
       "      <td>Aberdeen</td>\n",
       "      <td>2010-02-22 00:00:00</td>\n",
       "      <td>70</td>\n",
       "      <td>Fast</td>\n",
       "      <td>Little</td>\n",
       "      <td>70</td>\n",
       "      <td>Long</td>\n",
       "      <td>Organised</td>\n",
       "      <td>...</td>\n",
       "      <td>70</td>\n",
       "      <td>Lots</td>\n",
       "      <td>Organised</td>\n",
       "      <td>60</td>\n",
       "      <td>Medium</td>\n",
       "      <td>70</td>\n",
       "      <td>Double</td>\n",
       "      <td>70</td>\n",
       "      <td>Wide</td>\n",
       "      <td>Cover</td>\n",
       "    </tr>\n",
       "    <tr>\n",
       "      <th>4</th>\n",
       "      <td>Scotland</td>\n",
       "      <td>Scotland Premier League</td>\n",
       "      <td>Aberdeen</td>\n",
       "      <td>2011-02-22 00:00:00</td>\n",
       "      <td>47</td>\n",
       "      <td>Balanced</td>\n",
       "      <td>Little</td>\n",
       "      <td>52</td>\n",
       "      <td>Mixed</td>\n",
       "      <td>Organised</td>\n",
       "      <td>...</td>\n",
       "      <td>52</td>\n",
       "      <td>Normal</td>\n",
       "      <td>Organised</td>\n",
       "      <td>47</td>\n",
       "      <td>Medium</td>\n",
       "      <td>47</td>\n",
       "      <td>Press</td>\n",
       "      <td>52</td>\n",
       "      <td>Normal</td>\n",
       "      <td>Cover</td>\n",
       "    </tr>\n",
       "  </tbody>\n",
       "</table>\n",
       "<p>5 rows × 24 columns</p>\n",
       "</div>"
      ],
      "text/plain": [
       "  country_name               league_name team_long_name                 date  \\\n",
       "0  Switzerland  Switzerland Super League       FC Aarau  2010-02-22 00:00:00   \n",
       "1  Switzerland  Switzerland Super League       FC Aarau  2014-09-19 00:00:00   \n",
       "2  Switzerland  Switzerland Super League       FC Aarau  2015-09-10 00:00:00   \n",
       "3     Scotland   Scotland Premier League       Aberdeen  2010-02-22 00:00:00   \n",
       "4     Scotland   Scotland Premier League       Aberdeen  2011-02-22 00:00:00   \n",
       "\n",
       "   buildUpPlaySpeed buildUpPlaySpeedClass buildUpPlayDribblingClass  \\\n",
       "0                60              Balanced                    Little   \n",
       "1                52              Balanced                    Normal   \n",
       "2                47              Balanced                    Normal   \n",
       "3                70                  Fast                    Little   \n",
       "4                47              Balanced                    Little   \n",
       "\n",
       "   buildUpPlayPassing buildUpPlayPassingClass buildUpPlayPositioningClass  \\\n",
       "0                  50                   Mixed                   Organised   \n",
       "1                  56                   Mixed                   Organised   \n",
       "2                  54                   Mixed                   Organised   \n",
       "3                  70                    Long                   Organised   \n",
       "4                  52                   Mixed                   Organised   \n",
       "\n",
       "   ...  chanceCreationShooting chanceCreationShootingClass  \\\n",
       "0  ...                      55                      Normal   \n",
       "1  ...                      64                      Normal   \n",
       "2  ...                      64                      Normal   \n",
       "3  ...                      70                        Lots   \n",
       "4  ...                      52                      Normal   \n",
       "\n",
       "   chanceCreationPositioningClass defencePressure  defencePressureClass  \\\n",
       "0                       Organised              50                Medium   \n",
       "1                       Organised              47                Medium   \n",
       "2                       Organised              47                Medium   \n",
       "3                       Organised              60                Medium   \n",
       "4                       Organised              47                Medium   \n",
       "\n",
       "  defenceAggression defenceAggressionClass  defenceTeamWidth  \\\n",
       "0                55                  Press                45   \n",
       "1                44                  Press                54   \n",
       "2                44                  Press                54   \n",
       "3                70                 Double                70   \n",
       "4                47                  Press                52   \n",
       "\n",
       "  defenceTeamWidthClass  defenceDefenderLineClass  \n",
       "0                Normal                     Cover  \n",
       "1                Normal                     Cover  \n",
       "2                Normal                     Cover  \n",
       "3                  Wide                     Cover  \n",
       "4                Normal                     Cover  \n",
       "\n",
       "[5 rows x 24 columns]"
      ]
     },
     "execution_count": 86,
     "metadata": {},
     "output_type": "execute_result"
    }
   ],
   "source": [
    "df_team_att.drop(columns='team_api_id',inplace=True)\n",
    "df_team_att.head()"
   ]
  },
  {
   "cell_type": "markdown",
   "metadata": {},
   "source": [
    "Checking duplicated values and removing duplicates (if any)"
   ]
  },
  {
   "cell_type": "code",
   "execution_count": 87,
   "metadata": {},
   "outputs": [
    {
     "data": {
      "text/html": [
       "<div>\n",
       "<style scoped>\n",
       "    .dataframe tbody tr th:only-of-type {\n",
       "        vertical-align: middle;\n",
       "    }\n",
       "\n",
       "    .dataframe tbody tr th {\n",
       "        vertical-align: top;\n",
       "    }\n",
       "\n",
       "    .dataframe thead th {\n",
       "        text-align: right;\n",
       "    }\n",
       "</style>\n",
       "<table border=\"1\" class=\"dataframe\">\n",
       "  <thead>\n",
       "    <tr style=\"text-align: right;\">\n",
       "      <th></th>\n",
       "      <th>country_name</th>\n",
       "      <th>league_name</th>\n",
       "      <th>team_long_name</th>\n",
       "      <th>date</th>\n",
       "      <th>buildUpPlaySpeed</th>\n",
       "      <th>buildUpPlaySpeedClass</th>\n",
       "      <th>buildUpPlayDribblingClass</th>\n",
       "      <th>buildUpPlayPassing</th>\n",
       "      <th>buildUpPlayPassingClass</th>\n",
       "      <th>buildUpPlayPositioningClass</th>\n",
       "      <th>...</th>\n",
       "      <th>chanceCreationShooting</th>\n",
       "      <th>chanceCreationShootingClass</th>\n",
       "      <th>chanceCreationPositioningClass</th>\n",
       "      <th>defencePressure</th>\n",
       "      <th>defencePressureClass</th>\n",
       "      <th>defenceAggression</th>\n",
       "      <th>defenceAggressionClass</th>\n",
       "      <th>defenceTeamWidth</th>\n",
       "      <th>defenceTeamWidthClass</th>\n",
       "      <th>defenceDefenderLineClass</th>\n",
       "    </tr>\n",
       "  </thead>\n",
       "  <tbody>\n",
       "    <tr>\n",
       "      <th>859</th>\n",
       "      <td>Belgium</td>\n",
       "      <td>Belgium Jupiler League</td>\n",
       "      <td>Royal Excel Mouscron</td>\n",
       "      <td>2015-09-10 00:00:00</td>\n",
       "      <td>50</td>\n",
       "      <td>Balanced</td>\n",
       "      <td>Normal</td>\n",
       "      <td>50</td>\n",
       "      <td>Mixed</td>\n",
       "      <td>Organised</td>\n",
       "      <td>...</td>\n",
       "      <td>50</td>\n",
       "      <td>Normal</td>\n",
       "      <td>Organised</td>\n",
       "      <td>45</td>\n",
       "      <td>Medium</td>\n",
       "      <td>45</td>\n",
       "      <td>Press</td>\n",
       "      <td>50</td>\n",
       "      <td>Normal</td>\n",
       "      <td>Cover</td>\n",
       "    </tr>\n",
       "    <tr>\n",
       "      <th>860</th>\n",
       "      <td>Belgium</td>\n",
       "      <td>Belgium Jupiler League</td>\n",
       "      <td>Royal Excel Mouscron</td>\n",
       "      <td>2015-09-10 00:00:00</td>\n",
       "      <td>50</td>\n",
       "      <td>Balanced</td>\n",
       "      <td>Normal</td>\n",
       "      <td>50</td>\n",
       "      <td>Mixed</td>\n",
       "      <td>Organised</td>\n",
       "      <td>...</td>\n",
       "      <td>50</td>\n",
       "      <td>Normal</td>\n",
       "      <td>Organised</td>\n",
       "      <td>45</td>\n",
       "      <td>Medium</td>\n",
       "      <td>45</td>\n",
       "      <td>Press</td>\n",
       "      <td>50</td>\n",
       "      <td>Normal</td>\n",
       "      <td>Cover</td>\n",
       "    </tr>\n",
       "  </tbody>\n",
       "</table>\n",
       "<p>2 rows × 24 columns</p>\n",
       "</div>"
      ],
      "text/plain": [
       "    country_name             league_name        team_long_name  \\\n",
       "859      Belgium  Belgium Jupiler League  Royal Excel Mouscron   \n",
       "860      Belgium  Belgium Jupiler League  Royal Excel Mouscron   \n",
       "\n",
       "                    date  buildUpPlaySpeed buildUpPlaySpeedClass  \\\n",
       "859  2015-09-10 00:00:00                50              Balanced   \n",
       "860  2015-09-10 00:00:00                50              Balanced   \n",
       "\n",
       "    buildUpPlayDribblingClass  buildUpPlayPassing buildUpPlayPassingClass  \\\n",
       "859                    Normal                  50                   Mixed   \n",
       "860                    Normal                  50                   Mixed   \n",
       "\n",
       "    buildUpPlayPositioningClass  ...  chanceCreationShooting  \\\n",
       "859                   Organised  ...                      50   \n",
       "860                   Organised  ...                      50   \n",
       "\n",
       "    chanceCreationShootingClass  chanceCreationPositioningClass  \\\n",
       "859                      Normal                       Organised   \n",
       "860                      Normal                       Organised   \n",
       "\n",
       "    defencePressure  defencePressureClass defenceAggression  \\\n",
       "859              45                Medium                45   \n",
       "860              45                Medium                45   \n",
       "\n",
       "    defenceAggressionClass  defenceTeamWidth defenceTeamWidthClass  \\\n",
       "859                  Press                50                Normal   \n",
       "860                  Press                50                Normal   \n",
       "\n",
       "     defenceDefenderLineClass  \n",
       "859                     Cover  \n",
       "860                     Cover  \n",
       "\n",
       "[2 rows x 24 columns]"
      ]
     },
     "execution_count": 87,
     "metadata": {},
     "output_type": "execute_result"
    }
   ],
   "source": [
    "df_team_att.loc[df_team_att.duplicated(keep=False),:]"
   ]
  },
  {
   "cell_type": "code",
   "execution_count": 88,
   "metadata": {},
   "outputs": [],
   "source": [
    "df_team_att.drop_duplicates(inplace=True)"
   ]
  },
  {
   "cell_type": "markdown",
   "metadata": {},
   "source": [
    "<a id='eda'></a>\n",
    "## Exploratory Data Analysis\n",
    "\n",
    "\n",
    "### Do home teams have more chances of winning matches?"
   ]
  },
  {
   "cell_type": "markdown",
   "metadata": {
    "collapsed": true
   },
   "source": [
    "A team wins a match when it scores more than the competitor team. Otherwise, it loses the match or a draw if they both are equal scores. The ```df_match``` records the goals scored by home and away teams. Therefore, a new column **home_match_result** shall be required to determine if the home team won, lost or match draw."
   ]
  },
  {
   "cell_type": "code",
   "execution_count": 89,
   "metadata": {},
   "outputs": [],
   "source": [
    "df_match['home_match_result']=None"
   ]
  },
  {
   "cell_type": "code",
   "execution_count": 90,
   "metadata": {},
   "outputs": [],
   "source": [
    "for z in df_match.index:\n",
    "    if df_match.loc[z,'home_team_goal']>df_match.loc[z,'away_team_goal']:\n",
    "        df_match.loc[z,'home_match_result']='win'\n",
    "    elif df_match.loc[z,'home_team_goal']<df_match.loc[z,'away_team_goal']:\n",
    "        df_match.loc[z,'home_match_result']='loss'\n",
    "    else:\n",
    "        df_match.loc[z,'home_match_result']='draw'"
   ]
  },
  {
   "cell_type": "code",
   "execution_count": 91,
   "metadata": {},
   "outputs": [
    {
     "data": {
      "text/html": [
       "<div>\n",
       "<style scoped>\n",
       "    .dataframe tbody tr th:only-of-type {\n",
       "        vertical-align: middle;\n",
       "    }\n",
       "\n",
       "    .dataframe tbody tr th {\n",
       "        vertical-align: top;\n",
       "    }\n",
       "\n",
       "    .dataframe thead th {\n",
       "        text-align: right;\n",
       "    }\n",
       "</style>\n",
       "<table border=\"1\" class=\"dataframe\">\n",
       "  <thead>\n",
       "    <tr style=\"text-align: right;\">\n",
       "      <th></th>\n",
       "      <th>country_name</th>\n",
       "      <th>league_name</th>\n",
       "      <th>season</th>\n",
       "      <th>stage</th>\n",
       "      <th>home_team_name</th>\n",
       "      <th>away_team_name</th>\n",
       "      <th>home_team_goal</th>\n",
       "      <th>away_team_goal</th>\n",
       "      <th>home_match_result</th>\n",
       "    </tr>\n",
       "  </thead>\n",
       "  <tbody>\n",
       "    <tr>\n",
       "      <th>0</th>\n",
       "      <td>Belgium</td>\n",
       "      <td>Belgium Jupiler League</td>\n",
       "      <td>2008/2009</td>\n",
       "      <td>1</td>\n",
       "      <td>KRC Genk</td>\n",
       "      <td>Beerschot AC</td>\n",
       "      <td>1</td>\n",
       "      <td>1</td>\n",
       "      <td>draw</td>\n",
       "    </tr>\n",
       "    <tr>\n",
       "      <th>1</th>\n",
       "      <td>Belgium</td>\n",
       "      <td>Belgium Jupiler League</td>\n",
       "      <td>2008/2009</td>\n",
       "      <td>1</td>\n",
       "      <td>SV Zulte-Waregem</td>\n",
       "      <td>Sporting Lokeren</td>\n",
       "      <td>0</td>\n",
       "      <td>0</td>\n",
       "      <td>draw</td>\n",
       "    </tr>\n",
       "    <tr>\n",
       "      <th>2</th>\n",
       "      <td>Belgium</td>\n",
       "      <td>Belgium Jupiler League</td>\n",
       "      <td>2008/2009</td>\n",
       "      <td>1</td>\n",
       "      <td>KSV Cercle Brugge</td>\n",
       "      <td>RSC Anderlecht</td>\n",
       "      <td>0</td>\n",
       "      <td>3</td>\n",
       "      <td>loss</td>\n",
       "    </tr>\n",
       "    <tr>\n",
       "      <th>3</th>\n",
       "      <td>Belgium</td>\n",
       "      <td>Belgium Jupiler League</td>\n",
       "      <td>2008/2009</td>\n",
       "      <td>1</td>\n",
       "      <td>KAA Gent</td>\n",
       "      <td>RAEC Mons</td>\n",
       "      <td>5</td>\n",
       "      <td>0</td>\n",
       "      <td>win</td>\n",
       "    </tr>\n",
       "    <tr>\n",
       "      <th>4</th>\n",
       "      <td>Belgium</td>\n",
       "      <td>Belgium Jupiler League</td>\n",
       "      <td>2008/2009</td>\n",
       "      <td>1</td>\n",
       "      <td>FCV Dender EH</td>\n",
       "      <td>Standard de Liège</td>\n",
       "      <td>1</td>\n",
       "      <td>3</td>\n",
       "      <td>loss</td>\n",
       "    </tr>\n",
       "  </tbody>\n",
       "</table>\n",
       "</div>"
      ],
      "text/plain": [
       "  country_name             league_name     season  stage     home_team_name  \\\n",
       "0      Belgium  Belgium Jupiler League  2008/2009      1           KRC Genk   \n",
       "1      Belgium  Belgium Jupiler League  2008/2009      1   SV Zulte-Waregem   \n",
       "2      Belgium  Belgium Jupiler League  2008/2009      1  KSV Cercle Brugge   \n",
       "3      Belgium  Belgium Jupiler League  2008/2009      1           KAA Gent   \n",
       "4      Belgium  Belgium Jupiler League  2008/2009      1      FCV Dender EH   \n",
       "\n",
       "      away_team_name  home_team_goal  away_team_goal home_match_result  \n",
       "0       Beerschot AC               1               1              draw  \n",
       "1   Sporting Lokeren               0               0              draw  \n",
       "2     RSC Anderlecht               0               3              loss  \n",
       "3          RAEC Mons               5               0               win  \n",
       "4  Standard de Liège               1               3              loss  "
      ]
     },
     "execution_count": 91,
     "metadata": {},
     "output_type": "execute_result"
    }
   ],
   "source": [
    "df_match.head()"
   ]
  },
  {
   "cell_type": "markdown",
   "metadata": {},
   "source": [
    "The next pie chart shows the portion for home team winning a match compared to loss and draw."
   ]
  },
  {
   "cell_type": "code",
   "execution_count": 92,
   "metadata": {},
   "outputs": [
    {
     "data": {
      "text/plain": [
       "win     11917\n",
       "loss     7466\n",
       "draw     6596\n",
       "Name: home_match_result, dtype: int64"
      ]
     },
     "execution_count": 92,
     "metadata": {},
     "output_type": "execute_result"
    }
   ],
   "source": [
    "df_match['home_match_result'].value_counts()"
   ]
  },
  {
   "cell_type": "markdown",
   "metadata": {},
   "source": [
    "<a id=\"home win\"></a>"
   ]
  },
  {
   "cell_type": "code",
   "execution_count": 93,
   "metadata": {},
   "outputs": [
    {
     "data": {
      "image/png": "[encoded data removed]",
      "text/plain": [
       "<Figure size 432x288 with 1 Axes>"
      ]
     },
     "metadata": {},
     "output_type": "display_data"
    }
   ],
   "source": [
    "df_match_pie= df_match['home_match_result'].value_counts()\n",
    "plt.pie(df_match_pie, labels=['Home Win', 'Home Loss', 'Draw Match'], colors=['green','red','#66CCFF'], autopct='%1.1f%%',radius=2);"
   ]
  },
  {
   "cell_type": "markdown",
   "metadata": {},
   "source": [
    "The pie chart is simply telling that a team is most likely to win a match if they play home. Is that correct for each league?"
   ]
  },
  {
   "cell_type": "code",
   "execution_count": 94,
   "metadata": {},
   "outputs": [],
   "source": [
    "df_league_win = df_match.loc[df_match['home_match_result']=='win',:].groupby(['league_name']).count()['home_match_result']\n",
    "df_league_loss = df_match.loc[df_match['home_match_result']=='loss',:].groupby(['league_name']).count()['home_match_result']\n",
    "df_league_draw = df_match.loc[df_match['home_match_result']=='draw',:].groupby(['league_name']).count()['home_match_result']"
   ]
  },
  {
   "cell_type": "code",
   "execution_count": 95,
   "metadata": {},
   "outputs": [
    {
     "data": {
      "image/png": "[encoded data removed]",
      "text/plain": [
       "<Figure size 1080x576 with 1 Axes>"
      ]
     },
     "metadata": {
      "needs_background": "light"
     },
     "output_type": "display_data"
    }
   ],
   "source": [
    "home_match_res = pd.concat([df_league_win,df_league_loss,df_league_draw], axis=1,keys=['WIN','LOSS','DRAW'])\n",
    "home_match_res.plot(kind='bar', figsize=(15,8), color=['green','red','#66CCFF'], title='Home match results'\n",
    "                    , xlabel='League Name', fontsize=11, rot=45);"
   ]
  },
  {
   "cell_type": "markdown",
   "metadata": {},
   "source": [
    "Obviously, the home team is likely to win among all leagues. To be precise, we will take season 2012/2013 as an example."
   ]
  },
  {
   "cell_type": "code",
   "execution_count": 96,
   "metadata": {},
   "outputs": [],
   "source": [
    "df_league_win = df_match.loc[df_match['home_match_result']=='win',:].loc[df_match['season']=='2012/2013',:].groupby(['league_name']).count()['home_match_result']\n",
    "df_league_loss = df_match.loc[df_match['home_match_result']=='loss',:].loc[df_match['season']=='2012/2013',:].groupby(['league_name']).count()['home_match_result']\n",
    "df_league_draw = df_match.loc[df_match['home_match_result']=='draw',:].loc[df_match['season']=='2012/2013',:].groupby(['league_name']).count()['home_match_result']\n"
   ]
  },
  {
   "cell_type": "code",
   "execution_count": 97,
   "metadata": {},
   "outputs": [
    {
     "data": {
      "image/png": "[encoded data removed]",
      "text/plain": [
       "<Figure size 1080x576 with 1 Axes>"
      ]
     },
     "metadata": {
      "needs_background": "light"
     },
     "output_type": "display_data"
    }
   ],
   "source": [
    "home_match_res = pd.concat([df_league_win,df_league_loss,df_league_draw], axis=1,keys=['WIN','LOSS','DRAW'])\n",
    "home_match_res.plot(kind='bar', figsize=(15,8), color=['green','red','#66CCFF'], title='Home match results for season 2012/2013'\n",
    "                    , xlabel='League Name', fontsize=11, rot=45);"
   ]
  },
  {
   "cell_type": "markdown",
   "metadata": {},
   "source": [
    "There is no doubt that being home playing with the encouragment of your fans on your land is a great motive to win the match. But what are other parameters from attributes of a team?. To know that, lets see the most winning team among all leagues and accordingly we can have a look on their attributes."
   ]
  },
  {
   "cell_type": "markdown",
   "metadata": {},
   "source": [
    "### What are the top winning teams?"
   ]
  },
  {
   "cell_type": "code",
   "execution_count": 98,
   "metadata": {},
   "outputs": [],
   "source": [
    "df_match['winner_team_name']=None"
   ]
  },
  {
   "cell_type": "code",
   "execution_count": 99,
   "metadata": {},
   "outputs": [],
   "source": [
    "for z in df_match.index:\n",
    "    if df_match.loc[z,'home_team_goal']>df_match.loc[z,'away_team_goal']:\n",
    "        df_match.loc[z,'winner_team_name']=df_match.loc[z,'home_team_name']\n",
    "    elif df_match.loc[z,'home_team_goal']<df_match.loc[z,'away_team_goal']:\n",
    "        df_match.loc[z,'winner_team_name']=df_match.loc[z,'away_team_name']\n",
    "    else:\n",
    "        df_match.loc[z,'winner_team_name']='draw'"
   ]
  },
  {
   "cell_type": "code",
   "execution_count": 100,
   "metadata": {
    "scrolled": false
   },
   "outputs": [
    {
     "data": {
      "text/html": [
       "<div>\n",
       "<style scoped>\n",
       "    .dataframe tbody tr th:only-of-type {\n",
       "        vertical-align: middle;\n",
       "    }\n",
       "\n",
       "    .dataframe tbody tr th {\n",
       "        vertical-align: top;\n",
       "    }\n",
       "\n",
       "    .dataframe thead th {\n",
       "        text-align: right;\n",
       "    }\n",
       "</style>\n",
       "<table border=\"1\" class=\"dataframe\">\n",
       "  <thead>\n",
       "    <tr style=\"text-align: right;\">\n",
       "      <th></th>\n",
       "      <th>country_name</th>\n",
       "      <th>league_name</th>\n",
       "      <th>season</th>\n",
       "      <th>stage</th>\n",
       "      <th>home_team_name</th>\n",
       "      <th>away_team_name</th>\n",
       "      <th>home_team_goal</th>\n",
       "      <th>away_team_goal</th>\n",
       "      <th>home_match_result</th>\n",
       "      <th>winner_team_name</th>\n",
       "    </tr>\n",
       "  </thead>\n",
       "  <tbody>\n",
       "    <tr>\n",
       "      <th>0</th>\n",
       "      <td>Belgium</td>\n",
       "      <td>Belgium Jupiler League</td>\n",
       "      <td>2008/2009</td>\n",
       "      <td>1</td>\n",
       "      <td>KRC Genk</td>\n",
       "      <td>Beerschot AC</td>\n",
       "      <td>1</td>\n",
       "      <td>1</td>\n",
       "      <td>draw</td>\n",
       "      <td>draw</td>\n",
       "    </tr>\n",
       "    <tr>\n",
       "      <th>1</th>\n",
       "      <td>Belgium</td>\n",
       "      <td>Belgium Jupiler League</td>\n",
       "      <td>2008/2009</td>\n",
       "      <td>1</td>\n",
       "      <td>SV Zulte-Waregem</td>\n",
       "      <td>Sporting Lokeren</td>\n",
       "      <td>0</td>\n",
       "      <td>0</td>\n",
       "      <td>draw</td>\n",
       "      <td>draw</td>\n",
       "    </tr>\n",
       "    <tr>\n",
       "      <th>2</th>\n",
       "      <td>Belgium</td>\n",
       "      <td>Belgium Jupiler League</td>\n",
       "      <td>2008/2009</td>\n",
       "      <td>1</td>\n",
       "      <td>KSV Cercle Brugge</td>\n",
       "      <td>RSC Anderlecht</td>\n",
       "      <td>0</td>\n",
       "      <td>3</td>\n",
       "      <td>loss</td>\n",
       "      <td>RSC Anderlecht</td>\n",
       "    </tr>\n",
       "    <tr>\n",
       "      <th>3</th>\n",
       "      <td>Belgium</td>\n",
       "      <td>Belgium Jupiler League</td>\n",
       "      <td>2008/2009</td>\n",
       "      <td>1</td>\n",
       "      <td>KAA Gent</td>\n",
       "      <td>RAEC Mons</td>\n",
       "      <td>5</td>\n",
       "      <td>0</td>\n",
       "      <td>win</td>\n",
       "      <td>KAA Gent</td>\n",
       "    </tr>\n",
       "    <tr>\n",
       "      <th>4</th>\n",
       "      <td>Belgium</td>\n",
       "      <td>Belgium Jupiler League</td>\n",
       "      <td>2008/2009</td>\n",
       "      <td>1</td>\n",
       "      <td>FCV Dender EH</td>\n",
       "      <td>Standard de Liège</td>\n",
       "      <td>1</td>\n",
       "      <td>3</td>\n",
       "      <td>loss</td>\n",
       "      <td>Standard de Liège</td>\n",
       "    </tr>\n",
       "  </tbody>\n",
       "</table>\n",
       "</div>"
      ],
      "text/plain": [
       "  country_name             league_name     season  stage     home_team_name  \\\n",
       "0      Belgium  Belgium Jupiler League  2008/2009      1           KRC Genk   \n",
       "1      Belgium  Belgium Jupiler League  2008/2009      1   SV Zulte-Waregem   \n",
       "2      Belgium  Belgium Jupiler League  2008/2009      1  KSV Cercle Brugge   \n",
       "3      Belgium  Belgium Jupiler League  2008/2009      1           KAA Gent   \n",
       "4      Belgium  Belgium Jupiler League  2008/2009      1      FCV Dender EH   \n",
       "\n",
       "      away_team_name  home_team_goal  away_team_goal home_match_result  \\\n",
       "0       Beerschot AC               1               1              draw   \n",
       "1   Sporting Lokeren               0               0              draw   \n",
       "2     RSC Anderlecht               0               3              loss   \n",
       "3          RAEC Mons               5               0               win   \n",
       "4  Standard de Liège               1               3              loss   \n",
       "\n",
       "    winner_team_name  \n",
       "0               draw  \n",
       "1               draw  \n",
       "2     RSC Anderlecht  \n",
       "3           KAA Gent  \n",
       "4  Standard de Liège  "
      ]
     },
     "execution_count": 100,
     "metadata": {},
     "output_type": "execute_result"
    }
   ],
   "source": [
    "df_match.head()"
   ]
  },
  {
   "cell_type": "markdown",
   "metadata": {},
   "source": [
    "Now we get the most winning teams regardless being home or away. We will have to remove the Draw matches from the output."
   ]
  },
  {
   "cell_type": "code",
   "execution_count": 101,
   "metadata": {},
   "outputs": [],
   "source": [
    "df_winner = df_match['winner_team_name'].value_counts().head(11)\n",
    "df_winner.drop(index=['draw'],inplace=True)\n"
   ]
  },
  {
   "cell_type": "markdown",
   "metadata": {},
   "source": [
    "<a id=\"winning team\"></a>"
   ]
  },
  {
   "cell_type": "code",
   "execution_count": 102,
   "metadata": {},
   "outputs": [
    {
     "data": {
      "image/png": "[encoded data removed]",
      "text/plain": [
       "<Figure size 576x576 with 1 Axes>"
      ]
     },
     "metadata": {
      "needs_background": "light"
     },
     "output_type": "display_data"
    }
   ],
   "source": [
    "df_winner.plot(kind='bar', title='The most winning teams', rot=45, figsize=(8,8), grid=True);"
   ]
  },
  {
   "cell_type": "markdown",
   "metadata": {},
   "source": [
    "The most winning team is FC Barcelona and comes at second place Real Madrid CF. Now let's put this aside and explore the team attributes in deep."
   ]
  },
  {
   "cell_type": "markdown",
   "metadata": {},
   "source": [
    "A quick corrolation insights can be found in the below table. Apparently, there is relation between the following attributes:\n",
    "* **buildUpPlaySpeed** & **buildUpPlayPassing**\n",
    "* **defencePressure** & **defenceAggression**\n",
    "* **defenceTeamWidth** & **defencePressure**"
   ]
  },
  {
   "cell_type": "code",
   "execution_count": 103,
   "metadata": {},
   "outputs": [
    {
     "data": {
      "text/html": [
       "<div>\n",
       "<style scoped>\n",
       "    .dataframe tbody tr th:only-of-type {\n",
       "        vertical-align: middle;\n",
       "    }\n",
       "\n",
       "    .dataframe tbody tr th {\n",
       "        vertical-align: top;\n",
       "    }\n",
       "\n",
       "    .dataframe thead th {\n",
       "        text-align: right;\n",
       "    }\n",
       "</style>\n",
       "<table border=\"1\" class=\"dataframe\">\n",
       "  <thead>\n",
       "    <tr style=\"text-align: right;\">\n",
       "      <th></th>\n",
       "      <th>buildUpPlaySpeed</th>\n",
       "      <th>buildUpPlayPassing</th>\n",
       "      <th>chanceCreationPassing</th>\n",
       "      <th>chanceCreationCrossing</th>\n",
       "      <th>chanceCreationShooting</th>\n",
       "      <th>defencePressure</th>\n",
       "      <th>defenceAggression</th>\n",
       "      <th>defenceTeamWidth</th>\n",
       "    </tr>\n",
       "  </thead>\n",
       "  <tbody>\n",
       "    <tr>\n",
       "      <th>buildUpPlaySpeed</th>\n",
       "      <td>1.000000</td>\n",
       "      <td>0.395536</td>\n",
       "      <td>0.319141</td>\n",
       "      <td>0.191648</td>\n",
       "      <td>0.072046</td>\n",
       "      <td>0.046384</td>\n",
       "      <td>0.160518</td>\n",
       "      <td>0.066988</td>\n",
       "    </tr>\n",
       "    <tr>\n",
       "      <th>buildUpPlayPassing</th>\n",
       "      <td>0.395536</td>\n",
       "      <td>1.000000</td>\n",
       "      <td>0.220391</td>\n",
       "      <td>0.231131</td>\n",
       "      <td>-0.077293</td>\n",
       "      <td>-0.050478</td>\n",
       "      <td>0.122501</td>\n",
       "      <td>0.063173</td>\n",
       "    </tr>\n",
       "    <tr>\n",
       "      <th>chanceCreationPassing</th>\n",
       "      <td>0.319141</td>\n",
       "      <td>0.220391</td>\n",
       "      <td>1.000000</td>\n",
       "      <td>0.246493</td>\n",
       "      <td>0.112449</td>\n",
       "      <td>0.203147</td>\n",
       "      <td>0.145161</td>\n",
       "      <td>0.150115</td>\n",
       "    </tr>\n",
       "    <tr>\n",
       "      <th>chanceCreationCrossing</th>\n",
       "      <td>0.191648</td>\n",
       "      <td>0.231131</td>\n",
       "      <td>0.246493</td>\n",
       "      <td>1.000000</td>\n",
       "      <td>-0.012666</td>\n",
       "      <td>0.087089</td>\n",
       "      <td>0.098783</td>\n",
       "      <td>0.131469</td>\n",
       "    </tr>\n",
       "    <tr>\n",
       "      <th>chanceCreationShooting</th>\n",
       "      <td>0.072046</td>\n",
       "      <td>-0.077293</td>\n",
       "      <td>0.112449</td>\n",
       "      <td>-0.012666</td>\n",
       "      <td>1.000000</td>\n",
       "      <td>0.185587</td>\n",
       "      <td>0.116477</td>\n",
       "      <td>0.129115</td>\n",
       "    </tr>\n",
       "    <tr>\n",
       "      <th>defencePressure</th>\n",
       "      <td>0.046384</td>\n",
       "      <td>-0.050478</td>\n",
       "      <td>0.203147</td>\n",
       "      <td>0.087089</td>\n",
       "      <td>0.185587</td>\n",
       "      <td>1.000000</td>\n",
       "      <td>0.422492</td>\n",
       "      <td>0.508460</td>\n",
       "    </tr>\n",
       "    <tr>\n",
       "      <th>defenceAggression</th>\n",
       "      <td>0.160518</td>\n",
       "      <td>0.122501</td>\n",
       "      <td>0.145161</td>\n",
       "      <td>0.098783</td>\n",
       "      <td>0.116477</td>\n",
       "      <td>0.422492</td>\n",
       "      <td>1.000000</td>\n",
       "      <td>0.243141</td>\n",
       "    </tr>\n",
       "    <tr>\n",
       "      <th>defenceTeamWidth</th>\n",
       "      <td>0.066988</td>\n",
       "      <td>0.063173</td>\n",
       "      <td>0.150115</td>\n",
       "      <td>0.131469</td>\n",
       "      <td>0.129115</td>\n",
       "      <td>0.508460</td>\n",
       "      <td>0.243141</td>\n",
       "      <td>1.000000</td>\n",
       "    </tr>\n",
       "  </tbody>\n",
       "</table>\n",
       "</div>"
      ],
      "text/plain": [
       "                        buildUpPlaySpeed  buildUpPlayPassing  \\\n",
       "buildUpPlaySpeed                1.000000            0.395536   \n",
       "buildUpPlayPassing              0.395536            1.000000   \n",
       "chanceCreationPassing           0.319141            0.220391   \n",
       "chanceCreationCrossing          0.191648            0.231131   \n",
       "chanceCreationShooting          0.072046           -0.077293   \n",
       "defencePressure                 0.046384           -0.050478   \n",
       "defenceAggression               0.160518            0.122501   \n",
       "defenceTeamWidth                0.066988            0.063173   \n",
       "\n",
       "                        chanceCreationPassing  chanceCreationCrossing  \\\n",
       "buildUpPlaySpeed                     0.319141                0.191648   \n",
       "buildUpPlayPassing                   0.220391                0.231131   \n",
       "chanceCreationPassing                1.000000                0.246493   \n",
       "chanceCreationCrossing               0.246493                1.000000   \n",
       "chanceCreationShooting               0.112449               -0.012666   \n",
       "defencePressure                      0.203147                0.087089   \n",
       "defenceAggression                    0.145161                0.098783   \n",
       "defenceTeamWidth                     0.150115                0.131469   \n",
       "\n",
       "                        chanceCreationShooting  defencePressure  \\\n",
       "buildUpPlaySpeed                      0.072046         0.046384   \n",
       "buildUpPlayPassing                   -0.077293        -0.050478   \n",
       "chanceCreationPassing                 0.112449         0.203147   \n",
       "chanceCreationCrossing               -0.012666         0.087089   \n",
       "chanceCreationShooting                1.000000         0.185587   \n",
       "defencePressure                       0.185587         1.000000   \n",
       "defenceAggression                     0.116477         0.422492   \n",
       "defenceTeamWidth                      0.129115         0.508460   \n",
       "\n",
       "                        defenceAggression  defenceTeamWidth  \n",
       "buildUpPlaySpeed                 0.160518          0.066988  \n",
       "buildUpPlayPassing               0.122501          0.063173  \n",
       "chanceCreationPassing            0.145161          0.150115  \n",
       "chanceCreationCrossing           0.098783          0.131469  \n",
       "chanceCreationShooting           0.116477          0.129115  \n",
       "defencePressure                  0.422492          0.508460  \n",
       "defenceAggression                1.000000          0.243141  \n",
       "defenceTeamWidth                 0.243141          1.000000  "
      ]
     },
     "execution_count": 103,
     "metadata": {},
     "output_type": "execute_result"
    }
   ],
   "source": [
    "df_team_att.corr()"
   ]
  },
  {
   "cell_type": "markdown",
   "metadata": {},
   "source": [
    "### What are the team attributes contributing the most in a winning team?\n",
    "\n",
    "Now we are going to plot a scatter for the team attributes **buildUpPlaySpeed** & **buildUpPlayPassing** to see the correlation."
   ]
  },
  {
   "cell_type": "code",
   "execution_count": 104,
   "metadata": {},
   "outputs": [
    {
     "data": {
      "image/png": "[encoded data removed]",
      "text/plain": [
       "<Figure size 884.925x720 with 1 Axes>"
      ]
     },
     "metadata": {},
     "output_type": "display_data"
    }
   ],
   "source": [
    "sns.set_theme(color_codes=True)\n",
    "\n",
    "sns.lmplot(x=\"buildUpPlaySpeed\", y=\"buildUpPlayPassing\",hue='chanceCreationPassingClass',data= df_team_att, \n",
    "           height=10, palette='Set1');\n"
   ]
  },
  {
   "cell_type": "markdown",
   "metadata": {},
   "source": [
    "The PlaySpead scaling at x-axis refers to the speed of play from slow to fast. The PlayPassing scaling at y-axis refers to the passes length from short to long. \n",
    "\n",
    "The chart says the more the speed of play, the longer the passes between team players. It is also seen that slow play speed has chances to create risky passes as well as safe passes. Amazingly, there are teams have chances to create risky passes at high play speed . \n",
    "\n",
    "The next figure shows the relation between the PlaySpeed at x-axis and the CreationPassing at the y-axis. Low CreationPassing scalling refers to safe passes class while the upper scalling is risky passes."
   ]
  },
  {
   "cell_type": "code",
   "execution_count": 105,
   "metadata": {},
   "outputs": [
    {
     "data": {
      "image/png": "[encoded data removed]",
      "text/plain": [
       "<Figure size 864.8x720 with 1 Axes>"
      ]
     },
     "metadata": {},
     "output_type": "display_data"
    }
   ],
   "source": [
    "sns.set_theme(color_codes=True)\n",
    "\n",
    "sns.lmplot(x=\"buildUpPlaySpeed\", y=\"chanceCreationPassing\",hue='buildUpPlayPassingClass',data= df_team_att, \n",
    "           height=10, palette='Set1');"
   ]
  },
  {
   "cell_type": "markdown",
   "metadata": {},
   "source": [
    "We will look at teams with higher play speed. To observe that, the higher mean of play speed has to be calculated. The following bar chart will tell us that.\n",
    "<a id=\"play speed\"></a>"
   ]
  },
  {
   "cell_type": "code",
   "execution_count": 106,
   "metadata": {},
   "outputs": [
    {
     "data": {
      "image/png": "[encoded data removed]",
      "text/plain": [
       "<Figure size 576x576 with 1 Axes>"
      ]
     },
     "metadata": {},
     "output_type": "display_data"
    }
   ],
   "source": [
    "df_team_att.groupby(['team_long_name']).mean().sort_values(by=['buildUpPlaySpeed'], ascending=False)['buildUpPlaySpeed'].head(\n",
    "    11).plot(kind='bar', title='The top teams with high play speed attribute', figsize=(8,8), rot=45);"
   ]
  },
  {
   "cell_type": "markdown",
   "metadata": {},
   "source": [
    "Non of the top winners are among the high speed teams in play. \n",
    "\n",
    "Let's see the next correlations between **defencePressure** , **defenceAggression** & **defenceTeamWidth** to see if there is any attribute contribute the most in being a winning team."
   ]
  },
  {
   "cell_type": "code",
   "execution_count": 107,
   "metadata": {},
   "outputs": [
    {
     "data": {
      "image/png": "[encoded data removed]",
      "text/plain": [
       "<Figure size 861.425x720 with 1 Axes>"
      ]
     },
     "metadata": {},
     "output_type": "display_data"
    }
   ],
   "source": [
    "sns.lmplot(x=\"defencePressure\", y=\"defenceTeamWidth\",hue='defenceAggressionClass',data= df_team_att, \n",
    "           height=10, palette='Set1');"
   ]
  },
  {
   "cell_type": "markdown",
   "metadata": {},
   "source": [
    "It can be seen from the above chart that a high defense pressure is depending on a wide defense team with a double or contain aggression defense.\n",
    "\n",
    "Similarily, We will look at teams with higher defense pressure mean. The following bar chart will tell us that. \n",
    "<a id=\"defense pressure\"></a>"
   ]
  },
  {
   "cell_type": "code",
   "execution_count": 108,
   "metadata": {},
   "outputs": [
    {
     "data": {
      "image/png": "[encoded data removed]",
      "text/plain": [
       "<Figure size 1080x576 with 1 Axes>"
      ]
     },
     "metadata": {},
     "output_type": "display_data"
    }
   ],
   "source": [
    "df_team_att.groupby(['team_long_name']).mean().sort_values(by=['defenceTeamWidth'], ascending=False).loc[:,['defenceTeamWidth','defenceAggression','defencePressure']].head(\n",
    "    12).plot(kind='bar', title='The top teams with high defense pressure attribute', figsize=(15,8), color=['green','red','#66CCFF'], rot=45);"
   ]
  },
  {
   "cell_type": "markdown",
   "metadata": {},
   "source": [
    "FC Barcelona and Real Madrid CF are among the top teams to defend their space and prevent a goal-scoring chance. I assume this leads, eventually, to winning the match if the opposite team is a mild defender. That means a winning team needs not to be a strong attacker as high as a defender while investing the mistakes of opposite team defense can lead to a successful goal-scoring chance."
   ]
  },
  {
   "cell_type": "markdown",
   "metadata": {},
   "source": [
    "A deep look at the team attributes of FC Barcelona and Real Madrid CF can tell alot. Are they close in the attributes as they are in the winning matches counts? Let's see."
   ]
  },
  {
   "cell_type": "code",
   "execution_count": 109,
   "metadata": {
    "scrolled": true
   },
   "outputs": [
    {
     "data": {
      "text/html": [
       "<div>\n",
       "<style scoped>\n",
       "    .dataframe tbody tr th:only-of-type {\n",
       "        vertical-align: middle;\n",
       "    }\n",
       "\n",
       "    .dataframe tbody tr th {\n",
       "        vertical-align: top;\n",
       "    }\n",
       "\n",
       "    .dataframe thead th {\n",
       "        text-align: right;\n",
       "    }\n",
       "</style>\n",
       "<table border=\"1\" class=\"dataframe\">\n",
       "  <thead>\n",
       "    <tr style=\"text-align: right;\">\n",
       "      <th></th>\n",
       "      <th>buildUpPlaySpeed</th>\n",
       "      <th>buildUpPlayPassing</th>\n",
       "      <th>chanceCreationPassing</th>\n",
       "      <th>chanceCreationCrossing</th>\n",
       "      <th>chanceCreationShooting</th>\n",
       "      <th>defencePressure</th>\n",
       "      <th>defenceAggression</th>\n",
       "      <th>defenceTeamWidth</th>\n",
       "    </tr>\n",
       "    <tr>\n",
       "      <th>team_long_name</th>\n",
       "      <th></th>\n",
       "      <th></th>\n",
       "      <th></th>\n",
       "      <th></th>\n",
       "      <th></th>\n",
       "      <th></th>\n",
       "      <th></th>\n",
       "      <th></th>\n",
       "    </tr>\n",
       "  </thead>\n",
       "  <tbody>\n",
       "    <tr>\n",
       "      <th>FC Barcelona</th>\n",
       "      <td>35.833333</td>\n",
       "      <td>34.000000</td>\n",
       "      <td>45.166667</td>\n",
       "      <td>33.333333</td>\n",
       "      <td>53.0</td>\n",
       "      <td>64.333333</td>\n",
       "      <td>54.500000</td>\n",
       "      <td>66.5</td>\n",
       "    </tr>\n",
       "    <tr>\n",
       "      <th>Real Madrid CF</th>\n",
       "      <td>50.666667</td>\n",
       "      <td>38.666667</td>\n",
       "      <td>67.500000</td>\n",
       "      <td>53.833333</td>\n",
       "      <td>69.0</td>\n",
       "      <td>52.000000</td>\n",
       "      <td>52.166667</td>\n",
       "      <td>63.5</td>\n",
       "    </tr>\n",
       "  </tbody>\n",
       "</table>\n",
       "</div>"
      ],
      "text/plain": [
       "                buildUpPlaySpeed  buildUpPlayPassing  chanceCreationPassing  \\\n",
       "team_long_name                                                                \n",
       "FC Barcelona           35.833333           34.000000              45.166667   \n",
       "Real Madrid CF         50.666667           38.666667              67.500000   \n",
       "\n",
       "                chanceCreationCrossing  chanceCreationShooting  \\\n",
       "team_long_name                                                   \n",
       "FC Barcelona                 33.333333                    53.0   \n",
       "Real Madrid CF               53.833333                    69.0   \n",
       "\n",
       "                defencePressure  defenceAggression  defenceTeamWidth  \n",
       "team_long_name                                                        \n",
       "FC Barcelona          64.333333          54.500000              66.5  \n",
       "Real Madrid CF        52.000000          52.166667              63.5  "
      ]
     },
     "execution_count": 109,
     "metadata": {},
     "output_type": "execute_result"
    }
   ],
   "source": [
    "df_team_att.loc[df_team_att['team_long_name'].isin(('FC Barcelona','Real Madrid CF'))].groupby(['team_long_name']).mean()"
   ]
  },
  {
   "cell_type": "code",
   "execution_count": 110,
   "metadata": {},
   "outputs": [
    {
     "data": {
      "image/png": "[encoded data removed]",
      "text/plain": [
       "<Figure size 576x576 with 1 Axes>"
      ]
     },
     "metadata": {},
     "output_type": "display_data"
    }
   ],
   "source": [
    "df_team_att.loc[df_team_att['team_long_name'].isin(('FC Barcelona','Real Madrid CF'))].groupby(\n",
    "    ['team_long_name']).mean().T.plot(kind='bar', figsize=(8,8), rot=45);"
   ]
  },
  {
   "cell_type": "markdown",
   "metadata": {},
   "source": [
    "Actually, I anticipated they would have similarities in many attributes, specially, they have won almost the same number of mathes. Apparently, Real Madrid CF is way overpassing FC Barcelona in all attributes except for the defensive attributes which FC Barcelona is at top. \n",
    "\n",
    "Do you think FC Barcelona was lucky to win as I think now?!"
   ]
  },
  {
   "cell_type": "markdown",
   "metadata": {},
   "source": [
    "### Who are the top rated players among the world? are they playing in the top winning teams?"
   ]
  },
  {
   "cell_type": "markdown",
   "metadata": {},
   "source": [
    "We will find the answer for these questions by getting the higher overall rating players. This will require the player attriutes DataFrame to be called and sorted descendingly by the **overall_rating**. For that, the mean **overall_rating** for each player is calculated."
   ]
  },
  {
   "cell_type": "code",
   "execution_count": 111,
   "metadata": {
    "scrolled": true
   },
   "outputs": [
    {
     "data": {
      "text/html": [
       "<div>\n",
       "<style scoped>\n",
       "    .dataframe tbody tr th:only-of-type {\n",
       "        vertical-align: middle;\n",
       "    }\n",
       "\n",
       "    .dataframe tbody tr th {\n",
       "        vertical-align: top;\n",
       "    }\n",
       "\n",
       "    .dataframe thead th {\n",
       "        text-align: right;\n",
       "    }\n",
       "</style>\n",
       "<table border=\"1\" class=\"dataframe\">\n",
       "  <thead>\n",
       "    <tr style=\"text-align: right;\">\n",
       "      <th></th>\n",
       "      <th>overall_rating</th>\n",
       "    </tr>\n",
       "    <tr>\n",
       "      <th>player_api_id</th>\n",
       "      <th></th>\n",
       "    </tr>\n",
       "  </thead>\n",
       "  <tbody>\n",
       "    <tr>\n",
       "      <th>30981</th>\n",
       "      <td>92.192308</td>\n",
       "    </tr>\n",
       "    <tr>\n",
       "      <th>30893</th>\n",
       "      <td>91.280000</td>\n",
       "    </tr>\n",
       "    <tr>\n",
       "      <th>30924</th>\n",
       "      <td>88.458333</td>\n",
       "    </tr>\n",
       "    <tr>\n",
       "      <th>30955</th>\n",
       "      <td>88.320000</td>\n",
       "    </tr>\n",
       "    <tr>\n",
       "      <th>35724</th>\n",
       "      <td>88.285714</td>\n",
       "    </tr>\n",
       "  </tbody>\n",
       "</table>\n",
       "</div>"
      ],
      "text/plain": [
       "               overall_rating\n",
       "player_api_id                \n",
       "30981               92.192308\n",
       "30893               91.280000\n",
       "30924               88.458333\n",
       "30955               88.320000\n",
       "35724               88.285714"
      ]
     },
     "execution_count": 111,
     "metadata": {},
     "output_type": "execute_result"
    }
   ],
   "source": [
    "df_player_rating = df_player_att.groupby(['player_api_id']).mean().sort_values(by='overall_rating', ascending=False).head(5)\n",
    "df_player_rating"
   ]
  },
  {
   "cell_type": "markdown",
   "metadata": {},
   "source": [
    "The **player_api_id** needs to be replaced with the player name."
   ]
  },
  {
   "cell_type": "code",
   "execution_count": 112,
   "metadata": {},
   "outputs": [],
   "source": [
    "def p_name(dfx):\n",
    "    dfx['player_name']=None\n",
    "    for i in dfx.index:\n",
    "        playerid = i\n",
    "        playername = list(df_player[df_player['player_api_id'] == playerid].loc[:,'player_name'])[0]\n",
    "        \n",
    "        dfx.loc[i,'player_name'] = playername\n",
    "    dfx = dfx.reset_index()\n",
    "    dfx = dfx.drop(columns='player_api_id')\n",
    "    return dfx"
   ]
  },
  {
   "cell_type": "code",
   "execution_count": 113,
   "metadata": {},
   "outputs": [],
   "source": [
    "df_player_rating = p_name(df_player_rating)\n"
   ]
  },
  {
   "cell_type": "markdown",
   "metadata": {},
   "source": [
    "Let's see the top rated players in the world.<a id=\"top rated players\"></a>"
   ]
  },
  {
   "cell_type": "code",
   "execution_count": 114,
   "metadata": {},
   "outputs": [
    {
     "data": {
      "image/png": "[encoded data removed]",
      "text/plain": [
       "<Figure size 576x576 with 1 Axes>"
      ]
     },
     "metadata": {},
     "output_type": "display_data"
    }
   ],
   "source": [
    "plt.figure(figsize=(8,8))\n",
    "ax = sns.barplot(x=\"player_name\", y=\"overall_rating\", data=df_player_rating, palette=\"Blues_r\")\n",
    "ax.set_xlabel(\"Player Name\")\n",
    "ax.set_ylabel(\"Overall Rating\")\n",
    "plt.title('Top Rated Players in the World')\n",
    "plt.xticks(rotation = 45);"
   ]
  },
  {
   "cell_type": "markdown",
   "metadata": {},
   "source": [
    "The top rated players actually play for the most winning teams. This is a great parameter contributing in a team to win a match. Similarily, if a team wants to win matches, it has to bring the top rated players to play within its team."
   ]
  },
  {
   "cell_type": "markdown",
   "metadata": {},
   "source": [
    "<a id='conclusions'></a>\n",
    "## Conclusions\n",
    "\n",
    "From the previous exploratory data analysis, it can be concluded that teams are most likely to win matches if they play in their land. A home team has a probability to <a href=\"#home win\">win by 45%</a> . While the home team may loose or a match ends in a draw by 28%.\n",
    "\n",
    "The <a href=\"#winning team\">most winning team</a> is FC Barcelona and comes at second place Real Madrid CF. These teams include the <a href=\"#top rated players\">top rated players</a> in the world such as Lionel Messi and Cristiano Ronaldo.\n",
    "\n",
    "FC Barcelona and Real Madrid CF are among the <a href=\"#defense pressure\">top teams to defend their space</a> and prevent a goal-scoring chance. However they are not among the <a href=\"#play speed\">high play-speed teams</a>. A winning team needs not to be a strong attacker as high as a defender while investing the mistakes of opposite team defense can lead to a successful goal-scoring chance."
   ]
  },
  {
   "cell_type": "markdown",
   "metadata": {},
   "source": [
    "<a id='limitations'></a>\n",
    "## Limitations\n",
    "\n",
    "These conclusions are limited to the data available until 2016 within the dataset. The findings may differ if a more recent dataset is given. Moreover, the attributes of team players may be analyzed in deep to figure out more parameters contributing on  the chances a team to win."
   ]
  }
 ],
 "metadata": {
  "kernelspec": {
   "display_name": "Python 3 (ipykernel)",
   "language": "python",
   "name": "python3"
  },
  "language_info": {
   "codemirror_mode": {
    "name": "ipython",
    "version": 3
   },
   "file_extension": ".py",
   "mimetype": "text/x-python",
   "name": "python",
   "nbconvert_exporter": "python",
   "pygments_lexer": "ipython3",
   "version": "3.9.7"
  }
 },
 "nbformat": 4,
 "nbformat_minor": 2
}
